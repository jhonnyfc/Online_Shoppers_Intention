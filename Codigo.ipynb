{
 "cells": [
  {
   "cell_type": "code",
   "execution_count": 1,
   "metadata": {},
   "outputs": [],
   "source": [
    "# %load ../../standard_import.txt\n",
    "import pandas as pd\n",
    "import numpy as np\n",
    "import matplotlib.pyplot as plt\n",
    "import matplotlib.image as mpimg\n",
    "\n",
    "pd.set_option('display.notebook_repr_html', False)\n",
    "pd.set_option('display.max_columns', None)\n",
    "pd.set_option('display.max_rows', 150)\n",
    "pd.set_option('display.max_seq_items', None)\n",
    " \n",
    "#%config InlineBackend.figure_formats = {'pdf',}\n",
    "%matplotlib inline"
   ]
  },
  {
   "cell_type": "markdown",
   "metadata": {},
   "source": [
    "Numericas:\n",
    "-  'Administrative', 'Administrative_Duration', 'Informational',\n",
    "       'Informational_Duration', 'ProductRelated', 'ProductRelated_Duration',\n",
    "       'BounceRates', 'ExitRates', 'PageValues', 'SpecialDay',\n",
    "       'OperatingSystems', 'Browser', 'Region', 'TrafficType', 'VisitorType',\n",
    "       \n",
    "\n",
    "Categoricas:\n",
    " - 'Month': ()\n",
    " - 'Weekend': 1(Fasle), 2(True)\n",
    " - 'VisitorType': 1(Ha vuelto), 2(Nuevo), 3(otro)\n",
    "\n",
    "Clases 'Revenue'"
   ]
  },
  {
   "cell_type": "code",
   "execution_count": 52,
   "metadata": {},
   "outputs": [
    {
     "output_type": "stream",
     "name": "stdout",
     "text": "Administrative  Administrative_Duration  Informational  \\\n0             0.0                      0.0            0.0   \n1             0.0                      0.0            0.0   \n2             0.0                     -1.0            0.0   \n3             0.0                      0.0            0.0   \n4             0.0                      0.0            0.0   \n\n   Informational_Duration  ProductRelated  ProductRelated_Duration  \\\n0                     0.0             1.0                 0.000000   \n1                     0.0             2.0                64.000000   \n2                    -1.0             1.0                -1.000000   \n3                     0.0             2.0                 2.666667   \n4                     0.0            10.0               627.500000   \n\n   BounceRates  ExitRates  PageValues  SpecialDay Month  OperatingSystems  \\\n0         0.20       0.20         0.0         0.0   Feb                 1   \n1         0.00       0.10         0.0         0.0   Feb                 2   \n2         0.20       0.20         0.0         0.0   Feb                 4   \n3         0.05       0.14         0.0         0.0   Feb                 3   \n4         0.02       0.05         0.0         0.0   Feb                 3   \n\n   Browser  Region  TrafficType        VisitorType  Weekend  Revenue  \n0        1       1            1  Returning_Visitor    False    False  \n1        2       1            2  Returning_Visitor    False    False  \n2        1       9            3  Returning_Visitor    False    False  \n3        2       2            4  Returning_Visitor    False    False  \n4        3       1            4  Returning_Visitor     True    False  \n"
    },
    {
     "output_type": "error",
     "ename": "NameError",
     "evalue": "name 'mesesDic' is not defined",
     "traceback": [
      "\u001b[1;31m---------------------------------------------------------------------------\u001b[0m",
      "\u001b[1;31mNameError\u001b[0m                                 Traceback (most recent call last)",
      "\u001b[1;32m<ipython-input-52-41c2010fff30>\u001b[0m in \u001b[0;36m<module>\u001b[1;34m\u001b[0m\n\u001b[0;32m      8\u001b[0m     \u001b[1;32mif\u001b[0m \u001b[0mval\u001b[0m \u001b[1;33m==\u001b[0m \u001b[1;34m'Month'\u001b[0m\u001b[1;33m:\u001b[0m\u001b[1;33m\u001b[0m\u001b[1;33m\u001b[0m\u001b[0m\n\u001b[0;32m      9\u001b[0m         \u001b[0mmeses\u001b[0m \u001b[1;33m=\u001b[0m \u001b[0mdict\u001b[0m\u001b[1;33m(\u001b[0m\u001b[0mzip\u001b[0m\u001b[1;33m(\u001b[0m\u001b[1;33m[\u001b[0m\u001b[1;34m'Feb'\u001b[0m\u001b[1;33m,\u001b[0m \u001b[1;34m'Mar'\u001b[0m\u001b[1;33m,\u001b[0m \u001b[1;34m'May'\u001b[0m\u001b[1;33m,\u001b[0m \u001b[1;34m'June'\u001b[0m\u001b[1;33m,\u001b[0m \u001b[1;34m'Jul'\u001b[0m\u001b[1;33m,\u001b[0m \u001b[1;34m'Aug'\u001b[0m\u001b[1;33m,\u001b[0m \u001b[1;34m'Sep'\u001b[0m\u001b[1;33m,\u001b[0m \u001b[1;34m'Oct'\u001b[0m\u001b[1;33m,\u001b[0m \u001b[1;34m'Nov'\u001b[0m\u001b[1;33m,\u001b[0m \u001b[1;34m'Dec'\u001b[0m\u001b[1;33m]\u001b[0m\u001b[1;33m,\u001b[0m \u001b[1;33m[\u001b[0m\u001b[1;36m2\u001b[0m\u001b[1;33m,\u001b[0m\u001b[1;36m3\u001b[0m\u001b[1;33m,\u001b[0m\u001b[1;36m5\u001b[0m\u001b[1;33m,\u001b[0m\u001b[1;36m6\u001b[0m\u001b[1;33m,\u001b[0m\u001b[1;36m7\u001b[0m\u001b[1;33m,\u001b[0m\u001b[1;36m8\u001b[0m\u001b[1;33m,\u001b[0m\u001b[1;36m9\u001b[0m\u001b[1;33m,\u001b[0m\u001b[1;36m10\u001b[0m\u001b[1;33m,\u001b[0m\u001b[1;36m11\u001b[0m\u001b[1;33m,\u001b[0m\u001b[1;36m12\u001b[0m\u001b[1;33m]\u001b[0m\u001b[1;33m)\u001b[0m\u001b[1;33m)\u001b[0m\u001b[1;33m\u001b[0m\u001b[1;33m\u001b[0m\u001b[0m\n\u001b[1;32m---> 10\u001b[1;33m         \u001b[0mdatos_ok\u001b[0m\u001b[1;33m[\u001b[0m\u001b[0mval\u001b[0m\u001b[1;33m]\u001b[0m\u001b[1;33m.\u001b[0m\u001b[0mreplace\u001b[0m\u001b[1;33m(\u001b[0m\u001b[0mmesesDic\u001b[0m\u001b[1;33m,\u001b[0m \u001b[0minplace\u001b[0m\u001b[1;33m=\u001b[0m\u001b[1;32mTrue\u001b[0m\u001b[1;33m)\u001b[0m\u001b[1;33m\u001b[0m\u001b[1;33m\u001b[0m\u001b[0m\n\u001b[0m\u001b[0;32m     11\u001b[0m     \u001b[1;32melif\u001b[0m \u001b[0mval\u001b[0m \u001b[1;32min\u001b[0m \u001b[0mcategorico\u001b[0m\u001b[1;33m:\u001b[0m\u001b[1;33m\u001b[0m\u001b[1;33m\u001b[0m\u001b[0m\n\u001b[0;32m     12\u001b[0m         \u001b[0mlabels\u001b[0m \u001b[1;33m=\u001b[0m \u001b[0mdatos_ok\u001b[0m\u001b[1;33m[\u001b[0m\u001b[0mval\u001b[0m\u001b[1;33m]\u001b[0m\u001b[1;33m.\u001b[0m\u001b[0mastype\u001b[0m\u001b[1;33m(\u001b[0m\u001b[1;34m'category'\u001b[0m\u001b[1;33m)\u001b[0m\u001b[1;33m.\u001b[0m\u001b[0mcat\u001b[0m\u001b[1;33m.\u001b[0m\u001b[0mcategories\u001b[0m\u001b[1;33m.\u001b[0m\u001b[0mtolist\u001b[0m\u001b[1;33m(\u001b[0m\u001b[1;33m)\u001b[0m\u001b[1;33m\u001b[0m\u001b[1;33m\u001b[0m\u001b[0m\n",
      "\u001b[1;31mNameError\u001b[0m: name 'mesesDic' is not defined"
     ]
    }
   ],
   "source": [
    "datos = pd.read_csv('online_shoppers_intention.csv')\n",
    "\n",
    "datos_ok = datos.copy()\n",
    "print(datos_ok.head())\n",
    "categorico = ['Month','Weekend','VisitorType','Revenue']\n",
    "\n",
    "for i,val in enumerate(datos_ok.columns):\n",
    "    if val == 'Month':\n",
    "        mesesDic = dict(zip(['Feb', 'Mar', 'May', 'June', 'Jul', 'Aug', 'Sep', 'Oct', 'Nov', 'Dec'], [2,3,5,6,7,8,9,10,11,12]))\n",
    "        datos_ok[val].replace(mesesDic, inplace=True)\n",
    "    elif val in categorico:\n",
    "        labels = datos_ok[val].astype('category').cat.categories.tolist()\n",
    "        dict_make = {val : {k: v for k,v in zip(labels,list(range(1,len(labels)+1)))}}\n",
    "        datos_ok[val].replace(dict_make[val], inplace=True)\n",
    "\n",
    "X_all = np.array(datos_ok.drop(columns = 'Revenue').copy())\n",
    "y_all = np.array(pd.factorize(datos_ok['Revenue'])[0])\n",
    "\n",
    "print(X_all[:5,:])"
   ]
  },
  {
   "cell_type": "markdown",
   "metadata": {},
   "source": [
    "Elimnacion de valores Perididos"
   ]
  },
  {
   "cell_type": "code",
   "execution_count": 37,
   "metadata": {},
   "outputs": [],
   "source": [
    "n = np.isnan(X_all)\n",
    "n = np.sum(n,axis=1).reshape(-1,1).astype('bool')\n",
    "n = n == False\n",
    "X = X_all[n.flatten()]\n",
    "y = y_all[n.flatten()]"
   ]
  },
  {
   "cell_type": "markdown",
   "metadata": {},
   "source": [
    "## One Hot Ecnode busqueda"
   ]
  },
  {
   "cell_type": "code",
   "execution_count": 38,
   "metadata": {},
   "outputs": [
    {
     "output_type": "stream",
     "name": "stdout",
     "text": "(12330, 17)\nEl rendimiento en entrenamiento con todas las variables es el 100.0%\nEl rendimiento en test con todas las variables es el 85.9%\n"
    }
   ],
   "source": [
    "#hanwei\n",
    "# Se importan las 3 librerías necesarias para resolver el ejercicio\n",
    "from sklearn import neighbors, metrics, model_selection\n",
    "import sklearn.tree as tree\n",
    "print(X_all.shape)\n",
    "n = np.isnan(X_all)\n",
    "\n",
    "# Se fija la semilla de numpy para que la generación aleatoria siempre nos de los mismos números\n",
    "np.random.seed(12)\n",
    "\n",
    "# Lllamada a la función train_test_split y guardado del resultado\n",
    "X_train, X_test, y_train, y_test = model_selection.train_test_split(X, y, train_size=0.7)\n",
    "\n",
    "# Realizamos el proceso para KNN por lo que hay que llamar al constructor de dicho clasificador\n",
    "clf = tree.DecisionTreeClassifier()\n",
    "\n",
    "# Llamada a la función que realiza el aprendizaje del clasificador\n",
    "clf.fit(X_train,y_train)\n",
    "\n",
    "# Llamada a la función que realiza la predicción de los datos de entrenamiento\n",
    "predTrain = clf.predict(X_train)\n",
    "\n",
    "# Llamada a la función que calcula el porcentaje de acierto para los datos de entrenamiento\n",
    "accTrain = round(metrics.accuracy_score(y_train,predTrain)*100,2)\n",
    "print('El rendimiento en entrenamiento con todas las variables es el {}%'.format(accTrain))\n",
    "\n",
    "# Llamada a la función que realiza la predicción de los datos de test\n",
    "predTest = clf.predict(X_test)\n",
    "\n",
    "# Llamada a la función que calcula el porcentaje de acierto para los datos de test\n",
    "accTest = round(metrics.accuracy_score(y_test,predTest)*100,2)\n",
    "print('El rendimiento en test con todas las variables es el {}%'.format(accTest))"
   ]
  },
  {
   "cell_type": "code",
   "execution_count": 23,
   "metadata": {},
   "outputs": [
    {
     "output_type": "stream",
     "name": "stdout",
     "text": "1908 10422\n[0 0 0 ... 0 0 0]\n"
    }
   ],
   "source": [
    "num = np.sum(datos['Revenue'] == 1)\n",
    "num2 = np.sum(datos['Revenue'] == 0)\n",
    "print(num,num2)\n",
    "print(y_all)\n",
    "\n",
    "x_pos = X_all[y_all == 1]\n",
    "x_pos = X_all[y_all == 0]"
   ]
  },
  {
   "cell_type": "code",
   "execution_count": 50,
   "metadata": {},
   "outputs": [],
   "source": [
    "val = 'Month'\n",
    "labels = datos_ok[val].astype('category').cat.categories.tolist()\n",
    "dict_make = {val : {k: v for k,v in zip(labels,list(range(1,len(labels)+1)))}}\n",
    "pd.factorize(datos[val])\n",
    "# pd.factorize(sonar[' Type'])[0]\n"
   ]
  }
 ],
 "metadata": {
  "kernelspec": {
   "display_name": "Python 3",
   "language": "python",
   "name": "python3"
  },
  "language_info": {
   "codemirror_mode": {
    "name": "ipython",
    "version": 3
   },
   "file_extension": ".py",
   "mimetype": "text/x-python",
   "name": "python",
   "nbconvert_exporter": "python",
   "pygments_lexer": "ipython3",
   "version": "3.7.4-final"
  }
 },
 "nbformat": 4,
 "nbformat_minor": 2
}