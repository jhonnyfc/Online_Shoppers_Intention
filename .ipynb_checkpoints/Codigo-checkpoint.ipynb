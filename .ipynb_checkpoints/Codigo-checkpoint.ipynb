{
 "cells": [
  {
   "cell_type": "code",
   "execution_count": 1,
   "metadata": {},
   "outputs": [],
   "source": [
    "# %load ../../standard_import.txt\n",
    "import pandas as pd\n",
    "import numpy as np\n",
    "import matplotlib.pyplot as plt\n",
    "import matplotlib.image as mpimg\n",
    "\n",
    "pd.set_option('display.notebook_repr_html', False)\n",
    "pd.set_option('display.max_columns', None)\n",
    "pd.set_option('display.max_rows', 150)\n",
    "pd.set_option('display.max_seq_items', None)\n",
    " \n",
    "#%config InlineBackend.figure_formats = {'pdf',}\n",
    "%matplotlib inline"
   ]
  },
  {
   "cell_type": "code",
   "execution_count": 34,
   "metadata": {},
   "outputs": [
    {
     "name": "stdout",
     "output_type": "stream",
     "text": [
      "(12330, 17)\n"
     ]
    }
   ],
   "source": [
    "datos = pd.read_csv('online_shoppers_intention.csv')\n",
    "\n",
    "datos_ok = datos.copy()\n",
    "for i,val in enumerate(datos_ok.columns):\n",
    "    labels = datos_ok[val].astype('category').cat.categories.tolist()\n",
    "    dict_make = {val : {k: v for k,v in zip(labels,list(range(1,len(labels)+1)))}}\n",
    "    datos_ok[val].replace(dict_make[val], inplace=True)\n",
    "\n",
    "X_all = np.array(datos_ok.drop(columns = 'Revenue').copy())\n",
    "y_all = np.array(pd.factorize(datos_ok['Revenue'])[0])\n",
    "print(X.shape)"
   ]
  },
  {
   "cell_type": "code",
   "execution_count": 53,
   "metadata": {},
   "outputs": [
    {
     "name": "stdout",
     "output_type": "stream",
     "text": [
      "(12330, 17)\n",
      "mascara n:  [ True  True  True ...  True  True  True]\n",
      "(12316, 17)\n",
      "12316\n",
      "El rendimiento en entrenamiento con todas las variables es el 91.52%\n",
      "El rendimiento en test con todas las variables es el 88.71%\n"
     ]
    }
   ],
   "source": [
    "#hanwei\n",
    "# Se importan las 3 librerías necesarias para resolver el ejercicio\n",
    "from sklearn import neighbors, metrics, model_selection\n",
    "import sklearn.tree as tree\n",
    "print(X_all.shape)\n",
    "n = np.isnan(X_all)\n",
    "\n",
    "n = np.sum(n,axis=1).astype('bool')\n",
    "n = n == False\n",
    "print('mascara n: ',n)\n",
    "X = X_all[n]\n",
    "print(X.shape)\n",
    "print(sum(n))\n",
    "\n",
    "y = y_all[n]\n",
    "\n",
    "# Se fija la semilla de numpy para que la generación aleatoria siempre nos de los mismos números\n",
    "np.random.seed(12)\n",
    "\n",
    "# Lllamada a la función train_test_split y guardado del resultado\n",
    "X_train, X_test, y_train, y_test = model_selection.train_test_split(X, y, train_size=0.7)\n",
    "\n",
    "# Realizamos el proceso para KNN por lo que hay que llamar al constructor de dicho clasificador\n",
    "clf = neighbors.KNeighborsClassifier()\n",
    "\n",
    "# Llamada a la función que realiza el aprendizaje del clasificador\n",
    "clf.fit(X_train,y_train)\n",
    "\n",
    "# Llamada a la función que realiza la predicción de los datos de entrenamiento\n",
    "predTrain = clf.predict(X_train)\n",
    "\n",
    "# Llamada a la función que calcula el porcentaje de acierto para los datos de entrenamiento\n",
    "accTrain = round(metrics.accuracy_score(y_train,predTrain)*100,2)\n",
    "print('El rendimiento en entrenamiento con todas las variables es el {}%'.format(accTrain))\n",
    "\n",
    "# Llamada a la función que realiza la predicción de los datos de test\n",
    "predTest = clf.predict(X_test)\n",
    "\n",
    "# Llamada a la función que calcula el porcentaje de acierto para los datos de test\n",
    "accTest = round(metrics.accuracy_score(y_test,predTest)*100,2)\n",
    "print('El rendimiento en test con todas las variables es el {}%'.format(accTest))"
   ]
  },
  {
   "cell_type": "code",
   "execution_count": 48,
   "metadata": {},
   "outputs": [
    {
     "name": "stdout",
     "output_type": "stream",
     "text": [
      "[ True False  True]\n"
     ]
    },
    {
     "data": {
      "text/plain": [
       "array([[1, 2, 3],\n",
       "       [7, 8, 9]])"
      ]
     },
     "execution_count": 48,
     "metadata": {},
     "output_type": "execute_result"
    }
   ],
   "source": [
    "#hanwei\n",
    "xx = np.array([[1,2,3],[4,5,6],[7,8,9]])\n",
    "mascara = np.array([True,False,True])\n",
    "print(mascara)\n",
    "xx[mascara]"
   ]
  },
  {
   "cell_type": "code",
   "execution_count": null,
   "metadata": {},
   "outputs": [],
   "source": [
    "#hanwei"
   ]
  },
  {
   "cell_type": "code",
   "execution_count": null,
   "metadata": {},
   "outputs": [],
   "source": [
    "#jhonny\n",
    "import "
   ]
  },
  {
   "cell_type": "code",
   "execution_count": null,
   "metadata": {},
   "outputs": [],
   "source": [
    "#jhonny"
   ]
  },
  {
   "cell_type": "code",
   "execution_count": null,
   "metadata": {},
   "outputs": [],
   "source": [
    "#jhonny"
   ]
  },
  {
   "cell_type": "code",
   "execution_count": null,
   "metadata": {},
   "outputs": [],
   "source": []
  }
 ],
 "metadata": {
  "kernelspec": {
   "display_name": "Python 3",
   "language": "python",
   "name": "python3"
  },
  "language_info": {
   "codemirror_mode": {
    "name": "ipython",
    "version": 3
   },
   "file_extension": ".py",
   "mimetype": "text/x-python",
   "name": "python",
   "nbconvert_exporter": "python",
   "pygments_lexer": "ipython3",
   "version": "3.7.4"
  }
 },
 "nbformat": 4,
 "nbformat_minor": 2
}
