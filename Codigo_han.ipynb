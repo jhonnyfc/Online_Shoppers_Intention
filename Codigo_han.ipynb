{
 "cells": [
  {
   "cell_type": "code",
   "execution_count": 1,
   "metadata": {},
   "outputs": [],
   "source": [
    "# %load ../../standard_import.txt\n",
    "import pandas as pd\n",
    "import numpy as np\n",
    "import matplotlib.pyplot as plt\n",
    "import matplotlib.image as mpimg\n",
    "\n",
    "from sklearn.feature_selection import SelectFromModel\n",
    "from sklearn import neighbors, metrics, model_selection\n",
    "import sklearn.tree as tree\n",
    "from sklearn.ensemble import RandomForestClassifier\n",
    "from sklearn.svm import LinearSVC\n",
    "\n",
    "pd.set_option('display.notebook_repr_html', False)\n",
    "pd.set_option('display.max_columns', None)\n",
    "pd.set_option('display.max_rows', 150)\n",
    "pd.set_option('display.max_seq_items', None)\n",
    " \n",
    "#%config InlineBackend.figure_formats = {'pdf',}\n",
    "%matplotlib inline"
   ]
  },
  {
   "cell_type": "code",
   "execution_count": 2,
   "metadata": {},
   "outputs": [
    {
     "name": "stdout",
     "output_type": "stream",
     "text": [
      "   Administrative  Administrative_Duration  Informational  \\\n",
      "0             0.0                      0.0            0.0   \n",
      "1             0.0                      0.0            0.0   \n",
      "2             0.0                     -1.0            0.0   \n",
      "3             0.0                      0.0            0.0   \n",
      "4             0.0                      0.0            0.0   \n",
      "\n",
      "   Informational_Duration  ProductRelated  ProductRelated_Duration  \\\n",
      "0                     0.0             1.0                 0.000000   \n",
      "1                     0.0             2.0                64.000000   \n",
      "2                    -1.0             1.0                -1.000000   \n",
      "3                     0.0             2.0                 2.666667   \n",
      "4                     0.0            10.0               627.500000   \n",
      "\n",
      "   BounceRates  ExitRates  PageValues  SpecialDay Month  OperatingSystems  \\\n",
      "0         0.20       0.20         0.0         0.0   Feb                 1   \n",
      "1         0.00       0.10         0.0         0.0   Feb                 2   \n",
      "2         0.20       0.20         0.0         0.0   Feb                 4   \n",
      "3         0.05       0.14         0.0         0.0   Feb                 3   \n",
      "4         0.02       0.05         0.0         0.0   Feb                 3   \n",
      "\n",
      "   Browser  Region  TrafficType        VisitorType  Weekend  Revenue  \n",
      "0        1       1            1  Returning_Visitor    False    False  \n",
      "1        2       1            2  Returning_Visitor    False    False  \n",
      "2        1       9            3  Returning_Visitor    False    False  \n",
      "3        2       2            4  Returning_Visitor    False    False  \n",
      "4        3       1            4  Returning_Visitor     True    False  \n"
     ]
    }
   ],
   "source": [
    "datos = pd.read_csv('online_shoppers_intention.csv')\n",
    "\n",
    "datos_ok = datos.copy()\n",
    "print(datos_ok.head())\n",
    "categorico = ['Month','Weekend','VisitorType','Revenue']\n",
    "\n",
    "\n",
    "\n",
    "for i,val in enumerate(datos_ok.columns):\n",
    "    if val in categorico:\n",
    "        labels = datos_ok[val].astype('category').cat.categories.tolist()\n",
    "        dict_make = {val : {k: v for k,v in zip(labels,list(range(1,len(labels)+1)))}}\n",
    "        datos_ok[val].replace(dict_make[val], inplace=True)\n",
    "\n",
    "X_all = np.array(datos_ok.drop(columns = 'Revenue').copy())\n",
    "y_all = np.array(pd.factorize(datos_ok['Revenue'])[0])"
   ]
  },
  {
   "cell_type": "code",
   "execution_count": 3,
   "metadata": {},
   "outputs": [],
   "source": [
    "## Month,VisitorType,Weekend."
   ]
  },
  {
   "cell_type": "markdown",
   "metadata": {},
   "source": [
    "Eliminamos los ejemplos con valores desconocidos"
   ]
  },
  {
   "cell_type": "code",
   "execution_count": 4,
   "metadata": {},
   "outputs": [
    {
     "name": "stdout",
     "output_type": "stream",
     "text": [
      "se ha eliminado 14 ejemplos.\n"
     ]
    }
   ],
   "source": [
    "mascara = np.isnan(X_all)\n",
    "mascara = np.sum(mascara,axis=1).reshape(-1,1).astype(\"bool\")\n",
    "mascara = mascara == False\n",
    "\n",
    "X = X_all[mascara.flatten()]\n",
    "y = y_all[mascara.flatten()]\n",
    "print('se ha eliminado', len(X_all)-len(X),'ejemplos.')"
   ]
  },
  {
   "cell_type": "markdown",
   "metadata": {},
   "source": [
    "Visualizamos el numero de elementos de cada clase"
   ]
  },
  {
   "cell_type": "code",
   "execution_count": 5,
   "metadata": {},
   "outputs": [
    {
     "name": "stdout",
     "output_type": "stream",
     "text": [
      "hay 1908 positivos\n",
      "hay 10408 negativos\n"
     ]
    }
   ],
   "source": [
    "Xpos = X[y == 1]\n",
    "Xneg = X[y == 0]\n",
    "print('hay',len(Xpos),'positivos')\n",
    "print('hay',len(Xneg),'negativos')"
   ]
  },
  {
   "cell_type": "markdown",
   "metadata": {},
   "source": [
    "# Entrenamiento con datos sin procesar"
   ]
  },
  {
   "cell_type": "markdown",
   "metadata": {},
   "source": [
    "entrenamos un KNN con los datos sin procesar:"
   ]
  },
  {
   "cell_type": "code",
   "execution_count": 24,
   "metadata": {},
   "outputs": [
    {
     "name": "stdout",
     "output_type": "stream",
     "text": [
      "El rendimiento en entrenamiento con todas las variables es el 89.37%\n",
      "El rendimiento en test con todas las variables es el 86.25%\n"
     ]
    }
   ],
   "source": [
    "np.random.seed(12)\n",
    "\n",
    "X_train, X_test, y_train, y_test = model_selection.train_test_split(X, y, train_size=0.7)\n",
    "\n",
    "clf = neighbors.KNeighborsClassifier()\n",
    "clf.fit(X_train,y_train)\n",
    "\n",
    "predTrain = clf.predict(X_train)\n",
    "accTrainKNN = round(metrics.accuracy_score(y_train,predTrain)*100,2)\n",
    "print('El rendimiento en entrenamiento con todas las variables es el {}%'.format(accTrainKNN))\n",
    "\n",
    "predTest = clf.predict(X_test)\n",
    "accTestKNN = round(metrics.accuracy_score(y_test,predTest)*100,2)\n",
    "print('El rendimiento en test con todas las variables es el {}%'.format(accTestKNN))"
   ]
  },
  {
   "cell_type": "markdown",
   "metadata": {},
   "source": [
    "entrenamos un arbol de desicion con los datos sin procesar:"
   ]
  },
  {
   "cell_type": "code",
   "execution_count": 25,
   "metadata": {},
   "outputs": [
    {
     "name": "stdout",
     "output_type": "stream",
     "text": [
      "El rendimiento en entrenamiento con todas las variables es el 100.0%\n",
      "El rendimiento en test con todas las variables es el 85.9%\n"
     ]
    }
   ],
   "source": [
    "np.random.seed(12)\n",
    "\n",
    "X_train, X_test, y_train, y_test = model_selection.train_test_split(X, y, train_size=0.7)\n",
    "\n",
    "clf = tree.DecisionTreeClassifier()\n",
    "clf.fit(X_train,y_train)\n",
    "\n",
    "predTrain = clf.predict(X_train)\n",
    "accTrainDT = round(metrics.accuracy_score(y_train,predTrain)*100,2)\n",
    "print('El rendimiento en entrenamiento con todas las variables es el {}%'.format(accTrainDT))\n",
    "\n",
    "predTest = clf.predict(X_test)\n",
    "accTestDT = round(metrics.accuracy_score(y_test,predTest)*100,2)\n",
    "print('El rendimiento en test con todas las variables es el {}%'.format(accTestDT))"
   ]
  },
  {
   "cell_type": "markdown",
   "metadata": {},
   "source": [
    "entrenamos un random forest con los datos sin procesar: "
   ]
  },
  {
   "cell_type": "code",
   "execution_count": 26,
   "metadata": {},
   "outputs": [
    {
     "name": "stderr",
     "output_type": "stream",
     "text": [
      "C:\\Users\\Hanwei\\Anaconda3\\envs\\py37machlearn\\lib\\site-packages\\sklearn\\ensemble\\forest.py:245: FutureWarning: The default value of n_estimators will change from 10 in version 0.20 to 100 in 0.22.\n",
      "  \"10 in version 0.20 to 100 in 0.22.\", FutureWarning)\n"
     ]
    },
    {
     "name": "stdout",
     "output_type": "stream",
     "text": [
      "El rendimiento en entrenamiento con todas las variables es el 98.9%\n",
      "El rendimiento en test con todas las variables es el 90.15%\n"
     ]
    }
   ],
   "source": [
    "np.random.seed(12)\n",
    "\n",
    "X_train, X_test, y_train, y_test = model_selection.train_test_split(X, y, train_size=0.7)\n",
    "\n",
    "clf = RandomForestClassifier()\n",
    "clf.fit(X_train,y_train)\n",
    "\n",
    "predTrain = clf.predict(X_train)\n",
    "accTrainRF = round(metrics.accuracy_score(y_train,predTrain)*100,2)\n",
    "print('El rendimiento en entrenamiento con todas las variables es el {}%'.format(accTrainRF))\n",
    "\n",
    "predTest = clf.predict(X_test)\n",
    "accTestRF = round(metrics.accuracy_score(y_test,predTest)*100,2)\n",
    "print('El rendimiento en test con todas las variables es el {}%'.format(accTestRF))"
   ]
  },
  {
   "cell_type": "markdown",
   "metadata": {},
   "source": [
    "entrenamos un SVM con los datos sin procesar: "
   ]
  },
  {
   "cell_type": "code",
   "execution_count": 27,
   "metadata": {},
   "outputs": [
    {
     "name": "stdout",
     "output_type": "stream",
     "text": [
      "El rendimiento en entrenamiento con todas las variables es el 69.63%\n",
      "El rendimiento en test con todas las variables es el 68.44%\n"
     ]
    },
    {
     "name": "stderr",
     "output_type": "stream",
     "text": [
      "C:\\Users\\Hanwei\\Anaconda3\\envs\\py37machlearn\\lib\\site-packages\\sklearn\\svm\\base.py:929: ConvergenceWarning: Liblinear failed to converge, increase the number of iterations.\n",
      "  \"the number of iterations.\", ConvergenceWarning)\n"
     ]
    }
   ],
   "source": [
    "np.random.seed(12)\n",
    "\n",
    "X_train, X_test, y_train, y_test = model_selection.train_test_split(X, y, train_size=0.7)\n",
    "\n",
    "clf = LinearSVC()\n",
    "clf.fit(X_train,y_train)\n",
    "\n",
    "predTrain = clf.predict(X_train)\n",
    "accTrainSVM = round(metrics.accuracy_score(y_train,predTrain)*100,2)\n",
    "print('El rendimiento en entrenamiento con todas las variables es el {}%'.format(accTrainSVM))\n",
    "\n",
    "predTest = clf.predict(X_test)\n",
    "accTestSVM = round(metrics.accuracy_score(y_test,predTest)*100,2)\n",
    "print('El rendimiento en test con todas las variables es el {}%'.format(accTestSVM))"
   ]
  },
  {
   "cell_type": "code",
   "execution_count": null,
   "metadata": {},
   "outputs": [],
   "source": []
  },
  {
   "cell_type": "markdown",
   "metadata": {},
   "source": [
    "# Entrenamiento con datos sin Outliers"
   ]
  },
  {
   "cell_type": "code",
   "execution_count": 14,
   "metadata": {},
   "outputs": [],
   "source": [
    "def calcularMediaDesviacion(datos):\n",
    "    media = datos.mean(axis=0)\n",
    "    desviacion = datos.std(axis=0)\n",
    "    return media,desviacion"
   ]
  },
  {
   "cell_type": "code",
   "execution_count": 15,
   "metadata": {},
   "outputs": [],
   "source": [
    "def deteccionOutliers(datos,media,desviacion,k=2):\n",
    "    variablesOutliers = (datos < (media - k*desviacion)) | (datos > (media + k*desviacion))\n",
    "    mascaraOutliers = variablesOutliers.sum(axis=1,dtype=bool)\n",
    "    indicesOutliers = np.array(range(len(datos)))[mascaraOutliers]\n",
    "    return indicesOutliers"
   ]
  },
  {
   "cell_type": "markdown",
   "metadata": {},
   "source": [
    "datos numericas."
   ]
  },
  {
   "cell_type": "code",
   "execution_count": 16,
   "metadata": {},
   "outputs": [],
   "source": [
    "index_col_num = np.ones(len(datos_ok.columns))\n",
    "\n",
    "for i,val in enumerate(datos_ok.columns):\n",
    "\n",
    "    if val in categorico:\n",
    "        index_col_num[i] = 0\n",
    "\n",
    "## no cogemos la ultima variable porque es la clase\n",
    "index_col_num = index_col_num[:-1].astype('bool')"
   ]
  },
  {
   "cell_type": "code",
   "execution_count": 17,
   "metadata": {},
   "outputs": [
    {
     "name": "stdout",
     "output_type": "stream",
     "text": [
      "existe 5715 filas de Outliers.\n"
     ]
    }
   ],
   "source": [
    "media,desviacion = calcularMediaDesviacion(X.T[index_col_num].T)\n",
    "\n",
    "indicesOutliers = deteccionOutliers(X.T[index_col_num].T,media,desviacion)\n",
    "print('existe',len(indicesOutliers), 'filas de Outliers.')"
   ]
  },
  {
   "cell_type": "code",
   "execution_count": 19,
   "metadata": {},
   "outputs": [
    {
     "name": "stdout",
     "output_type": "stream",
     "text": [
      "se ha borrado 5715 filas.\n",
      "ejemplos sin outliers: 6601 filas.\n"
     ]
    }
   ],
   "source": [
    "# Borrado de los ejemplos con outliers\n",
    "XsinOutliers = np.delete(X, indicesOutliers, axis=0)\n",
    "YsinOutliers = np.delete(y, indicesOutliers, axis=0)\n",
    "numFilas = len(XsinOutliers)\n",
    "print('se ha borrado',len(indicesOutliers), 'filas.')\n",
    "print('ejemplos sin outliers:',numFilas, 'filas.')"
   ]
  },
  {
   "cell_type": "code",
   "execution_count": 21,
   "metadata": {},
   "outputs": [
    {
     "name": "stdout",
     "output_type": "stream",
     "text": [
      "de los cuales hay 820 de clase la positiva y 5781 de la clase negativa\n"
     ]
    }
   ],
   "source": [
    "Xpos = XsinOutliers[YsinOutliers == 1]\n",
    "Xneg = XsinOutliers[YsinOutliers == 0]\n",
    "print('de los cuales hay' ,len(Xpos),'de clase la positiva y',len(Xneg),'de la clase negativa')"
   ]
  },
  {
   "cell_type": "markdown",
   "metadata": {},
   "source": [
    "entrenamos un KNN con los datos sin outliers:"
   ]
  },
  {
   "cell_type": "code",
   "execution_count": 28,
   "metadata": {},
   "outputs": [
    {
     "name": "stdout",
     "output_type": "stream",
     "text": [
      "El rendimiento en entrenamiento con todas las variables es el 90.28%\n",
      "El rendimiento en test con todas las variables es el 87.68%\n"
     ]
    }
   ],
   "source": [
    "np.random.seed(12)\n",
    "\n",
    "X_train, X_test, y_train, y_test = model_selection.train_test_split(XsinOutliers, YsinOutliers, train_size=0.7)\n",
    "\n",
    "clf = neighbors.KNeighborsClassifier()\n",
    "clf.fit(X_train,y_train)\n",
    "\n",
    "predTrain = clf.predict(X_train)\n",
    "accTrainKNNsinOutliers = round(metrics.accuracy_score(y_train,predTrain)*100,2)\n",
    "print('El rendimiento en entrenamiento con todas las variables es el {}%'.format(accTrainKNNsinOutliers))\n",
    "\n",
    "predTest = clf.predict(X_test)\n",
    "accTestKNNsinOutliers = round(metrics.accuracy_score(y_test,predTest)*100,2)\n",
    "print('El rendimiento en test con todas las variables es el {}%'.format(accTestKNNsinOutliers))"
   ]
  },
  {
   "cell_type": "markdown",
   "metadata": {},
   "source": [
    "entrenamos un arbol de desicion con los datos sin outliers:"
   ]
  },
  {
   "cell_type": "code",
   "execution_count": 29,
   "metadata": {},
   "outputs": [
    {
     "name": "stdout",
     "output_type": "stream",
     "text": [
      "El rendimiento en entrenamiento con todas las variables es el 100.0%\n",
      "El rendimiento en test con todas las variables es el 86.42%\n"
     ]
    }
   ],
   "source": [
    "np.random.seed(12)\n",
    "\n",
    "X_train, X_test, y_train, y_test = model_selection.train_test_split(XsinOutliers, YsinOutliers, train_size=0.7)\n",
    "\n",
    "clf = tree.DecisionTreeClassifier()\n",
    "clf.fit(X_train,y_train)\n",
    "\n",
    "predTrain = clf.predict(X_train)\n",
    "accTrainDTsinOutliers = round(metrics.accuracy_score(y_train,predTrain)*100,2)\n",
    "print('El rendimiento en entrenamiento con todas las variables es el {}%'.format(accTrainDTsinOutliers))\n",
    "\n",
    "predTest = clf.predict(X_test)\n",
    "accTestDTsinOutliers = round(metrics.accuracy_score(y_test,predTest)*100,2)\n",
    "print('El rendimiento en test con todas las variables es el {}%'.format(accTestDTsinOutliers))"
   ]
  },
  {
   "cell_type": "markdown",
   "metadata": {},
   "source": [
    "entrenamos un random forest con los datos sin outliers: "
   ]
  },
  {
   "cell_type": "code",
   "execution_count": 37,
   "metadata": {},
   "outputs": [
    {
     "name": "stderr",
     "output_type": "stream",
     "text": [
      "C:\\Users\\Hanwei\\Anaconda3\\envs\\py37machlearn\\lib\\site-packages\\sklearn\\ensemble\\forest.py:245: FutureWarning: The default value of n_estimators will change from 10 in version 0.20 to 100 in 0.22.\n",
      "  \"10 in version 0.20 to 100 in 0.22.\", FutureWarning)\n"
     ]
    },
    {
     "name": "stdout",
     "output_type": "stream",
     "text": [
      "El rendimiento en entrenamiento con todas las variables es el 98.87%\n",
      "El rendimiento en test con todas las variables es el 89.45%\n"
     ]
    }
   ],
   "source": [
    "np.random.seed(12)\n",
    "\n",
    "X_train, X_test, y_train, y_test = model_selection.train_test_split(XsinOutliers, YsinOutliers, train_size=0.7)\n",
    "\n",
    "clf = RandomForestClassifier()\n",
    "clf.fit(X_train,y_train)\n",
    "\n",
    "predTrain = clf.predict(X_train)\n",
    "accTrainRFsinOutliers = round(metrics.accuracy_score(y_train,predTrain)*100,2)\n",
    "print('El rendimiento en entrenamiento con todas las variables es el {}%'.format(accTrainRFsinOutliers))\n",
    "\n",
    "predTest = clf.predict(X_test)\n",
    "accTestRFsinOutliers = round(metrics.accuracy_score(y_test,predTest)*100,2)\n",
    "print('El rendimiento en test con todas las variables es el {}%'.format(accTestRFsinOutliers))"
   ]
  },
  {
   "cell_type": "markdown",
   "metadata": {},
   "source": [
    "entrenamos un SVM con los datos sin outliers:"
   ]
  },
  {
   "cell_type": "code",
   "execution_count": 31,
   "metadata": {},
   "outputs": [
    {
     "name": "stdout",
     "output_type": "stream",
     "text": [
      "El rendimiento en entrenamiento con todas las variables es el 52.01%\n",
      "El rendimiento en test con todas las variables es el 51.74%\n"
     ]
    },
    {
     "name": "stderr",
     "output_type": "stream",
     "text": [
      "C:\\Users\\Hanwei\\Anaconda3\\envs\\py37machlearn\\lib\\site-packages\\sklearn\\svm\\base.py:929: ConvergenceWarning: Liblinear failed to converge, increase the number of iterations.\n",
      "  \"the number of iterations.\", ConvergenceWarning)\n"
     ]
    }
   ],
   "source": [
    "np.random.seed(12)\n",
    "\n",
    "X_train, X_test, y_train, y_test = model_selection.train_test_split(XsinOutliers, YsinOutliers, train_size=0.7)\n",
    "\n",
    "clf = LinearSVC()\n",
    "clf.fit(X_train,y_train)\n",
    "\n",
    "predTrain = clf.predict(X_train)\n",
    "accTrainSVMsinOutliers = round(metrics.accuracy_score(y_train,predTrain)*100,2)\n",
    "print('El rendimiento en entrenamiento con todas las variables es el {}%'.format(accTrainSVMsinOutliers))\n",
    "\n",
    "predTest = clf.predict(X_test)\n",
    "accTestSVMsinOutliers = round(metrics.accuracy_score(y_test,predTest)*100,2)\n",
    "print('El rendimiento en test con todas las variables es el {}%'.format(accTestSVMsinOutliers))"
   ]
  },
  {
   "cell_type": "markdown",
   "metadata": {},
   "source": [
    "## comparamos los resultados"
   ]
  },
  {
   "cell_type": "code",
   "execution_count": 41,
   "metadata": {},
   "outputs": [
    {
     "name": "stdout",
     "output_type": "stream",
     "text": [
      "KNN ******************************************************************************\n",
      "El rendimiento en entrenamiento con todas las variables es el 89.37%\n",
      "El rendimiento en entrenamiento con las variables sin outliers es el 90.28%\n",
      "El rendimiento en test con todas las variables es el 86.25%\n",
      "El rendimiento en test con las variables sin outliers es el 87.68%\n",
      "\n",
      "Decision Tree ********************************************************************\n",
      "El rendimiento en entrenamiento con todas las variables es el 100.0%\n",
      "El rendimiento en entrenamiento con las variables sin outliers es el 100.0%\n",
      "El rendimiento en test con todas las variables es el 85.9%\n",
      "El rendimiento en test con las variables sin outliers es el 86.42%\n",
      "\n",
      "Random Forest ********************************************************************\n",
      "El rendimiento en entrenamiento con todas las variables es el 98.9%\n",
      "El rendimiento en entrenamiento con las variables sin outliers es el 98.87%\n",
      "El rendimiento en test con todas las variables es el 90.15%\n",
      "El rendimiento en test con las variables sin outliers es el 89.45%\n",
      "\n",
      "SVM ******************************************************************************\n",
      "El rendimiento en entrenamiento con todas las variables es el 69.63%\n",
      "El rendimiento en entrenamiento con las variables sin outliers es el 52.01%\n",
      "El rendimiento en test con todas las variables es el 68.44%\n",
      "El rendimiento en test con las variables sin outliers es el 51.74%\n"
     ]
    }
   ],
   "source": [
    "print('KNN ******************************************************************************')\n",
    "\n",
    "print('El rendimiento en entrenamiento con todas las variables es el {}%'.format(accTrainKNN))\n",
    "print('El rendimiento en entrenamiento con las variables sin outliers es el {}%'.format(accTrainKNNsinOutliers))\n",
    "print('El rendimiento en test con todas las variables es el {}%'.format(accTestKNN))\n",
    "print('El rendimiento en test con las variables sin outliers es el {}%'.format(accTestKNNsinOutliers))\n",
    "print('')\n",
    "\n",
    "print('Decision Tree ********************************************************************')\n",
    "\n",
    "print('El rendimiento en entrenamiento con todas las variables es el {}%'.format(accTrainDT))\n",
    "print('El rendimiento en entrenamiento con las variables sin outliers es el {}%'.format(accTrainDTsinOutliers))\n",
    "print('El rendimiento en test con todas las variables es el {}%'.format(accTestDT))\n",
    "print('El rendimiento en test con las variables sin outliers es el {}%'.format(accTestDTsinOutliers))\n",
    "print('')\n",
    "\n",
    "print('Random Forest ********************************************************************')\n",
    "\n",
    "print('El rendimiento en entrenamiento con todas las variables es el {}%'.format(accTrainRF))\n",
    "print('El rendimiento en entrenamiento con las variables sin outliers es el {}%'.format(accTrainRFsinOutliers))\n",
    "print('El rendimiento en test con todas las variables es el {}%'.format(accTestRF))\n",
    "print('El rendimiento en test con las variables sin outliers es el {}%'.format(accTestRFsinOutliers))\n",
    "print('')\n",
    "\n",
    "print('SVM ******************************************************************************')\n",
    "\n",
    "print('El rendimiento en entrenamiento con todas las variables es el {}%'.format(accTrainSVM))\n",
    "print('El rendimiento en entrenamiento con las variables sin outliers es el {}%'.format(accTrainSVMsinOutliers))\n",
    "print('El rendimiento en test con todas las variables es el {}%'.format(accTestSVM))\n",
    "print('El rendimiento en test con las variables sin outliers es el {}%'.format(accTestSVMsinOutliers))\n"
   ]
  },
  {
   "cell_type": "code",
   "execution_count": null,
   "metadata": {},
   "outputs": [],
   "source": []
  },
  {
   "cell_type": "code",
   "execution_count": null,
   "metadata": {},
   "outputs": [],
   "source": []
  },
  {
   "cell_type": "markdown",
   "metadata": {},
   "source": [
    "# Seleccion de variables"
   ]
  },
  {
   "cell_type": "code",
   "execution_count": 40,
   "metadata": {},
   "outputs": [
    {
     "data": {
      "text/plain": [
       "<matplotlib.axes._subplots.AxesSubplot at 0x1520df46348>"
      ]
     },
     "execution_count": 40,
     "metadata": {},
     "output_type": "execute_result"
    },
    {
     "data": {
      "image/png": "[encoded data removed]",
      "text/plain": [
       "<Figure size 1440x720 with 1 Axes>"
      ]
     },
     "metadata": {
      "needs_background": "light"
     },
     "output_type": "display_data"
    }
   ],
   "source": [
    "from pandas.plotting import parallel_coordinates\n",
    "datos = np.hstack((XsinOutliers, YsinOutliers.reshape(-1,1)))\n",
    "\n",
    "# Se crean los índices de los ejemplos\n",
    "indice = list(range(0,len(XsinOutliers)))\n",
    "\n",
    "# Se obtienen los nombres de las variables (entrada y salida)\n",
    "columnas = list(datos_ok.columns[:-1])\n",
    "columnas.append('clase')\n",
    "\n",
    "# Se genera el DataFrame para poder aplicar la función parallel_coordinates\n",
    "df = pd.DataFrame(data = datos, index=indice, columns=columnas)\n",
    "\n",
    "# Se aplica la función parallel_coordinates sobre el DataFrame generado y usando la Clase como variable de discriminación\n",
    "plt.figure(figsize=(20,10))\n",
    "pd.plotting.parallel_coordinates(df,class_column='clase')"
   ]
  },
  {
   "cell_type": "markdown",
   "metadata": {},
   "source": [
    "como podemos ver, la grafica no nos aporta mucha informacion, por lo tanto, seleccionaremos las variables mas importantes con la ayuda de la libreria feature_selection."
   ]
  },
  {
   "cell_type": "markdown",
   "metadata": {},
   "source": [
    "vamos a buscar los mejores variables para DT:"
   ]
  },
  {
   "cell_type": "code",
   "execution_count": 48,
   "metadata": {},
   "outputs": [
    {
     "name": "stdout",
     "output_type": "stream",
     "text": [
      "Las variables seleccionadas son: ['Administrative_Duration', 'ProductRelated', 'ProductRelated_Duration', 'BounceRates', 'ExitRates', 'PageValues']\n",
      "El rendimiento en entrenamiento con todas las variables es el 100.0%\n",
      "El rendimiento en test con todas las variables es el 87.53%\n"
     ]
    }
   ],
   "source": [
    "np.random.seed(12)\n",
    "semilla = 123\n",
    "\n",
    "clf = tree.DecisionTreeClassifier()\n",
    "\n",
    "model = SelectFromModel(estimator=clf)\n",
    "model.fit(XsinOutliers, YsinOutliers)\n",
    "\n",
    "X_new = model.transform(XsinOutliers)\n",
    "\n",
    "booleanas =  model.get_support()\n",
    "\n",
    "# Se obtienen los nombres de las variables seleccionadas\n",
    "variablesSeleccionadasDT = [datos_ok.columns[:-1][i] for i in range(len(datos_ok.columns)-1) if booleanas[i]==True]\n",
    "print(\"Las variables seleccionadas son:\", variablesSeleccionadasDT)\n",
    "\n",
    "X_train, X_test, y_train, y_test = model_selection.train_test_split(X_new, YsinOutliers, train_size=0.7)\n",
    "\n",
    "clf = tree.DecisionTreeClassifier()\n",
    "clf.fit(X_train,y_train)\n",
    "\n",
    "# Predicción de las clases de los datos de entrenamiento transformados\n",
    "prediccionesTrain = clf.predict(X_train)\n",
    "prediccionesTest = clf.predict(X_test)\n",
    "\n",
    "# Se obtiene el accuracy en enrenamiento del nuevo árbol\n",
    "accTrainDTfs =  round(metrics.accuracy_score(y_train,prediccionesTrain)*100,2)\n",
    "print('El rendimiento en entrenamiento con todas las variables es el {}%'.format(accTrainDTfs))\n",
    "\n",
    "# Obtenición del rendimiento con los datos de test\n",
    "accTestDTfs =  round(metrics.accuracy_score(y_test,prediccionesTest)*100,2)\n",
    "print('El rendimiento en test con todas las variables es el {}%'.format(accTestDTfs))"
   ]
  },
  {
   "cell_type": "markdown",
   "metadata": {},
   "source": [
    "vamos a buscar los mejores variables para SVM:"
   ]
  },
  {
   "cell_type": "code",
   "execution_count": 50,
   "metadata": {},
   "outputs": [
    {
     "name": "stderr",
     "output_type": "stream",
     "text": [
      "C:\\Users\\Hanwei\\Anaconda3\\envs\\py37machlearn\\lib\\site-packages\\sklearn\\svm\\base.py:929: ConvergenceWarning: Liblinear failed to converge, increase the number of iterations.\n",
      "  \"the number of iterations.\", ConvergenceWarning)\n"
     ]
    },
    {
     "name": "stdout",
     "output_type": "stream",
     "text": [
      "Las variables seleccionadas son: ['Administrative', 'BounceRates', 'ExitRates', 'SpecialDay', 'VisitorType', 'Weekend']\n",
      "El rendimiento en entrenamiento con todas las variables es el 87.71%\n",
      "El rendimiento en test con todas las variables es el 87.28%\n"
     ]
    },
    {
     "name": "stderr",
     "output_type": "stream",
     "text": [
      "C:\\Users\\Hanwei\\Anaconda3\\envs\\py37machlearn\\lib\\site-packages\\sklearn\\svm\\base.py:929: ConvergenceWarning: Liblinear failed to converge, increase the number of iterations.\n",
      "  \"the number of iterations.\", ConvergenceWarning)\n"
     ]
    }
   ],
   "source": [
    "np.random.seed(12)\n",
    "semilla = 123\n",
    "\n",
    "clf = LinearSVC()\n",
    "\n",
    "model = SelectFromModel(estimator=clf)\n",
    "model.fit(XsinOutliers, YsinOutliers)\n",
    "\n",
    "X_new = model.transform(XsinOutliers)\n",
    "\n",
    "booleanas =  model.get_support()\n",
    "\n",
    "# Se obtienen los nombres de las variables seleccionadas\n",
    "variablesSeleccionadasDT = [datos_ok.columns[:-1][i] for i in range(len(datos_ok.columns)-1) if booleanas[i]==True]\n",
    "print(\"Las variables seleccionadas son:\", variablesSeleccionadasDT)\n",
    "\n",
    "X_train, X_test, y_train, y_test = model_selection.train_test_split(X_new, YsinOutliers, train_size=0.7)\n",
    "\n",
    "clf = LinearSVC()\n",
    "clf.fit(X_train,y_train)\n",
    "\n",
    "# Predicción de las clases de los datos de entrenamiento transformados\n",
    "prediccionesTrain = clf.predict(X_train)\n",
    "prediccionesTest = clf.predict(X_test)\n",
    "\n",
    "# Se obtiene el accuracy en enrenamiento del nuevo árbol\n",
    "accTrainSVMfs =  round(metrics.accuracy_score(y_train,prediccionesTrain)*100,2)\n",
    "print('El rendimiento en entrenamiento con todas las variables es el {}%'.format(accTrainSVMfs))\n",
    "\n",
    "# Obtenición del rendimiento con los datos de test\n",
    "accTestSVMfs =  round(metrics.accuracy_score(y_test,prediccionesTest)*100,2)\n",
    "print('El rendimiento en test con todas las variables es el {}%'.format(accTestSVMfs))"
   ]
  },
  {
   "cell_type": "code",
   "execution_count": 38,
   "metadata": {},
   "outputs": [
    {
     "name": "stdout",
     "output_type": "stream",
     "text": [
      "97.00730773692146\n",
      "87.36129905277402\n"
     ]
    }
   ],
   "source": [
    "\n",
    "np.random.seed(12)\n",
    "semilla = 123\n",
    "\n",
    "X_new = model.transform(X)\n",
    "\n",
    "X_train, X_test, y_train, y_test = model_selection.train_test_split(X_new[:,5], y, train_size=0.7)\n",
    "# Llamada al constructor del árbol de decisión\n",
    "arbolDecision = tree.DecisionTreeClassifier()\n",
    "\n",
    "# Entrenamiento del árbol de decisión con los datos transformados\n",
    "arbolDecision.fit(X_train.reshape(-1, 1),y_train.reshape(-1, 1))\n",
    "\n",
    "# Predicción de las clases de los datos de entrenamiento transformados\n",
    "prediccionesTrain = arbolDecision.predict(X_train.reshape(-1, 1))\n",
    "prediccionesTest = arbolDecision.predict(X_test.reshape(-1, 1))\n",
    "\n",
    "# Se obtiene el accuracy en enrenamiento del nuevo árbol\n",
    "accuracyTrain =  round(metrics.accuracy_score(y_train,prediccionesTrain)*100,2)\n",
    "print(accuracyTrain)\n",
    "round(metrics.accuracy_score(y_train,predTrain)*100,2)\n",
    "# Obtenición del rendimiento con los datos de test\n",
    "accuracyTest =  round(metrics.accuracy_score(y_test,prediccionesTest)*100,2)\n",
    "print(accuracyTest)\n"
   ]
  },
  {
   "cell_type": "code",
   "execution_count": 25,
   "metadata": {},
   "outputs": [
    {
     "data": {
      "text/plain": [
       "370"
      ]
     },
     "execution_count": 25,
     "metadata": {},
     "output_type": "execute_result"
    }
   ],
   "source": [
    "y[X[:,8] == 0].sum()"
   ]
  },
  {
   "cell_type": "code",
   "execution_count": 23,
   "metadata": {},
   "outputs": [
    {
     "data": {
      "text/plain": [
       "1908"
      ]
     },
     "execution_count": 23,
     "metadata": {},
     "output_type": "execute_result"
    }
   ],
   "source": [
    "(y == 1).sum()"
   ]
  },
  {
   "cell_type": "code",
   "execution_count": 28,
   "metadata": {},
   "outputs": [
    {
     "data": {
      "text/plain": [
       "9586"
      ]
     },
     "execution_count": 28,
     "metadata": {},
     "output_type": "execute_result"
    }
   ],
   "source": [
    "(X[:,8] == 0).sum()"
   ]
  },
  {
   "cell_type": "code",
   "execution_count": 52,
   "metadata": {},
   "outputs": [
    {
     "name": "stderr",
     "output_type": "stream",
     "text": [
      "C:\\Users\\Hanwei\\Anaconda3\\envs\\py37machlearn\\lib\\site-packages\\ipykernel_launcher.py:16: DataConversionWarning: A column-vector y was passed when a 1d array was expected. Please change the shape of y to (n_samples,), for example using ravel().\n",
      "  app.launch_new_instance()\n"
     ]
    },
    {
     "name": "stdout",
     "output_type": "stream",
     "text": [
      "El rendimiento en entrenamiento con todas las variables es el 97.01%\n",
      "El rendimiento en test con todas las variables es el 87.36%\n"
     ]
    }
   ],
   "source": [
    "#hanwei\n",
    "# Se importan las 3 librerías necesarias para resolver el ejercicio\n",
    "from sklearn import neighbors, metrics, model_selection\n",
    "import sklearn.tree as tree\n",
    "\n",
    "# Se fija la semilla de numpy para que la generación aleatoria siempre nos de los mismos números\n",
    "np.random.seed(12)\n",
    "\n",
    "# Lllamada a la función train_test_split y guardado del resultado\n",
    "X_train, X_test, y_train, y_test = model_selection.train_test_split(X[:,8], y, train_size=0.7)\n",
    "\n",
    "# Realizamos el proceso para KNN por lo que hay que llamar al constructor de dicho clasificador\n",
    "clf = RandomForestClassifier(n_estimators=100, criterion='entropy',random_state=123)\n",
    "\n",
    "# Llamada a la función que realiza el aprendizaje del clasificador\n",
    "clf.fit(X_train.reshape(-1, 1),y_train.reshape(-1, 1))\n",
    "\n",
    "# Llamada a la función que realiza la predicción de los datos de entrenamiento\n",
    "predTrain = clf.predict(X_train.reshape(-1, 1))\n",
    "\n",
    "# Llamada a la función que calcula el porcentaje de acierto para los datos de entrenamiento\n",
    "accTrain = round(metrics.accuracy_score(y_train,predTrain)*100,2)\n",
    "print('El rendimiento en entrenamiento con todas las variables es el {}%'.format(accTrain))\n",
    "\n",
    "# Llamada a la función que realiza la predicción de los datos de test\n",
    "predTest = clf.predict(X_test.reshape(-1, 1))\n",
    "# Llamada a la función que calcula el porcentaje de acierto para los datos de test\n",
    "accTest = round(metrics.accuracy_score(y_test,predTest)*100,2)\n",
    "print('El rendimiento en test con todas las variables es el {}%'.format(accTest))"
   ]
  },
  {
   "cell_type": "code",
   "execution_count": 43,
   "metadata": {
    "scrolled": true
   },
   "outputs": [
    {
     "name": "stdout",
     "output_type": "stream",
     "text": [
      "(6601, 6)\n",
      "100.0 90.06\n"
     ]
    }
   ],
   "source": [
    "from sklearn.ensemble import RandomForestClassifier\n",
    "\n",
    "np.random.seed(12)\n",
    "\n",
    "X_new = model.transform(XsinOutliers)\n",
    "print(X_new.shape)\n",
    "\n",
    "X_train, X_test, y_train, y_test = model_selection.train_test_split(X_new, YsinOutliers, train_size=0.5)\n",
    "\n",
    "bosqueAleatorio = RandomForestClassifier(n_estimators=100, criterion='entropy',random_state=123)\n",
    "bosqueAleatorio.fit(X_train,y_train)\n",
    "predTrain = bosqueAleatorio.predict(X_train)\n",
    "predTest = bosqueAleatorio.predict(X_test)\n",
    "accTrainRF = round(metrics.accuracy_score(y_train,predTrain)*100,2)\n",
    "accTestRF = round(metrics.accuracy_score(y_test,predTest)*100,2)\n",
    "print(accTrainRF,accTestRF)\n"
   ]
  },
  {
   "cell_type": "code",
   "execution_count": 48,
   "metadata": {},
   "outputs": [
    {
     "name": "stdout",
     "output_type": "stream",
     "text": [
      "(12316, 6)\n"
     ]
    },
    {
     "data": {
      "text/plain": [
       "91.29"
      ]
     },
     "execution_count": 48,
     "metadata": {},
     "output_type": "execute_result"
    }
   ],
   "source": [
    "X_new = model.transform(X)\n",
    "print(X_new.shape)\n",
    "pred = bosqueAleatorio.predict(X_new)\n",
    "acc = round(metrics.accuracy_score(y,pred)*100,2)\n",
    "acc"
   ]
  },
  {
   "cell_type": "code",
   "execution_count": 49,
   "metadata": {},
   "outputs": [
    {
     "name": "stdout",
     "output_type": "stream",
     "text": [
      "[[10005   403]\n",
      " [  670  1238]]\n",
      "              precision    recall  f1-score   support\n",
      "\n",
      "           0       0.94      0.96      0.95     10408\n",
      "           1       0.75      0.65      0.70      1908\n",
      "\n",
      "    accuracy                           0.91     12316\n",
      "   macro avg       0.85      0.81      0.82     12316\n",
      "weighted avg       0.91      0.91      0.91     12316\n",
      "\n"
     ]
    }
   ],
   "source": [
    "matrizConfusion = metrics.confusion_matrix(y,pred)\n",
    "\n",
    "print(matrizConfusion)\n",
    "print(metrics.classification_report(y, pred))"
   ]
  },
  {
   "cell_type": "code",
   "execution_count": 55,
   "metadata": {},
   "outputs": [
    {
     "name": "stdout",
     "output_type": "stream",
     "text": [
      "(6601, 6)\n",
      "[[5713   68]\n",
      " [ 322  498]]\n",
      "              precision    recall  f1-score   support\n",
      "\n",
      "           0       0.95      0.99      0.97      5781\n",
      "           1       0.88      0.61      0.72       820\n",
      "\n",
      "    accuracy                           0.94      6601\n",
      "   macro avg       0.91      0.80      0.84      6601\n",
      "weighted avg       0.94      0.94      0.94      6601\n",
      "\n"
     ]
    }
   ],
   "source": [
    "X_new = model.transform(XsinOutliers)\n",
    "print(X_new.shape)\n",
    "pred = clf.predict(X_new[:,5].reshape(-1, 1))\n",
    "acc = round(metrics.accuracy_score(YsinOutliers,pred)*100,2)\n",
    "acc\n",
    "\n",
    "\n",
    "matrizConfusion = metrics.confusion_matrix(YsinOutliers,pred)\n",
    "print(matrizConfusion)\n",
    "print(metrics.classification_report(YsinOutliers, pred))"
   ]
  },
  {
   "cell_type": "code",
   "execution_count": 56,
   "metadata": {},
   "outputs": [
    {
     "ename": "KeyboardInterrupt",
     "evalue": "",
     "output_type": "error",
     "traceback": [
      "\u001b[1;31m---------------------------------------------------------------------------\u001b[0m",
      "\u001b[1;31mKeyboardInterrupt\u001b[0m                         Traceback (most recent call last)",
      "\u001b[1;32m<ipython-input-56-7fdf1374be83>\u001b[0m in \u001b[0;36m<module>\u001b[1;34m\u001b[0m\n\u001b[0;32m     14\u001b[0m                                               cv=10)\n\u001b[0;32m     15\u001b[0m \u001b[1;33m\u001b[0m\u001b[0m\n\u001b[1;32m---> 16\u001b[1;33m \u001b[0mclasificadoresRF\u001b[0m\u001b[1;33m.\u001b[0m\u001b[0mfit\u001b[0m\u001b[1;33m(\u001b[0m\u001b[0mXsinOutliers\u001b[0m\u001b[1;33m,\u001b[0m\u001b[0mYsinOutliers\u001b[0m\u001b[1;33m)\u001b[0m\u001b[1;33m\u001b[0m\u001b[1;33m\u001b[0m\u001b[0m\n\u001b[0m\u001b[0;32m     17\u001b[0m \u001b[1;33m\u001b[0m\u001b[0m\n\u001b[0;32m     18\u001b[0m \u001b[1;31m# Se muestra la mejor configuración y su accuracy asociado\u001b[0m\u001b[1;33m\u001b[0m\u001b[1;33m\u001b[0m\u001b[1;33m\u001b[0m\u001b[0m\n",
      "\u001b[1;32m~\\Anaconda3\\envs\\py37machlearn\\lib\\site-packages\\sklearn\\model_selection\\_search.py\u001b[0m in \u001b[0;36mfit\u001b[1;34m(self, X, y, groups, **fit_params)\u001b[0m\n\u001b[0;32m    685\u001b[0m                 \u001b[1;32mreturn\u001b[0m \u001b[0mresults\u001b[0m\u001b[1;33m\u001b[0m\u001b[1;33m\u001b[0m\u001b[0m\n\u001b[0;32m    686\u001b[0m \u001b[1;33m\u001b[0m\u001b[0m\n\u001b[1;32m--> 687\u001b[1;33m             \u001b[0mself\u001b[0m\u001b[1;33m.\u001b[0m\u001b[0m_run_search\u001b[0m\u001b[1;33m(\u001b[0m\u001b[0mevaluate_candidates\u001b[0m\u001b[1;33m)\u001b[0m\u001b[1;33m\u001b[0m\u001b[1;33m\u001b[0m\u001b[0m\n\u001b[0m\u001b[0;32m    688\u001b[0m \u001b[1;33m\u001b[0m\u001b[0m\n\u001b[0;32m    689\u001b[0m         \u001b[1;31m# For multi-metric evaluation, store the best_index_, best_params_ and\u001b[0m\u001b[1;33m\u001b[0m\u001b[1;33m\u001b[0m\u001b[1;33m\u001b[0m\u001b[0m\n",
      "\u001b[1;32m~\\Anaconda3\\envs\\py37machlearn\\lib\\site-packages\\sklearn\\model_selection\\_search.py\u001b[0m in \u001b[0;36m_run_search\u001b[1;34m(self, evaluate_candidates)\u001b[0m\n\u001b[0;32m   1146\u001b[0m     \u001b[1;32mdef\u001b[0m \u001b[0m_run_search\u001b[0m\u001b[1;33m(\u001b[0m\u001b[0mself\u001b[0m\u001b[1;33m,\u001b[0m \u001b[0mevaluate_candidates\u001b[0m\u001b[1;33m)\u001b[0m\u001b[1;33m:\u001b[0m\u001b[1;33m\u001b[0m\u001b[1;33m\u001b[0m\u001b[0m\n\u001b[0;32m   1147\u001b[0m         \u001b[1;34m\"\"\"Search all candidates in param_grid\"\"\"\u001b[0m\u001b[1;33m\u001b[0m\u001b[1;33m\u001b[0m\u001b[0m\n\u001b[1;32m-> 1148\u001b[1;33m         \u001b[0mevaluate_candidates\u001b[0m\u001b[1;33m(\u001b[0m\u001b[0mParameterGrid\u001b[0m\u001b[1;33m(\u001b[0m\u001b[0mself\u001b[0m\u001b[1;33m.\u001b[0m\u001b[0mparam_grid\u001b[0m\u001b[1;33m)\u001b[0m\u001b[1;33m)\u001b[0m\u001b[1;33m\u001b[0m\u001b[1;33m\u001b[0m\u001b[0m\n\u001b[0m\u001b[0;32m   1149\u001b[0m \u001b[1;33m\u001b[0m\u001b[0m\n\u001b[0;32m   1150\u001b[0m \u001b[1;33m\u001b[0m\u001b[0m\n",
      "\u001b[1;32m~\\Anaconda3\\envs\\py37machlearn\\lib\\site-packages\\sklearn\\model_selection\\_search.py\u001b[0m in \u001b[0;36mevaluate_candidates\u001b[1;34m(candidate_params)\u001b[0m\n\u001b[0;32m    664\u001b[0m                                \u001b[1;32mfor\u001b[0m \u001b[0mparameters\u001b[0m\u001b[1;33m,\u001b[0m \u001b[1;33m(\u001b[0m\u001b[0mtrain\u001b[0m\u001b[1;33m,\u001b[0m \u001b[0mtest\u001b[0m\u001b[1;33m)\u001b[0m\u001b[1;33m\u001b[0m\u001b[1;33m\u001b[0m\u001b[0m\n\u001b[0;32m    665\u001b[0m                                in product(candidate_params,\n\u001b[1;32m--> 666\u001b[1;33m                                           cv.split(X, y, groups)))\n\u001b[0m\u001b[0;32m    667\u001b[0m \u001b[1;33m\u001b[0m\u001b[0m\n\u001b[0;32m    668\u001b[0m                 \u001b[1;32mif\u001b[0m \u001b[0mlen\u001b[0m\u001b[1;33m(\u001b[0m\u001b[0mout\u001b[0m\u001b[1;33m)\u001b[0m \u001b[1;33m<\u001b[0m \u001b[1;36m1\u001b[0m\u001b[1;33m:\u001b[0m\u001b[1;33m\u001b[0m\u001b[1;33m\u001b[0m\u001b[0m\n",
      "\u001b[1;32m~\\Anaconda3\\envs\\py37machlearn\\lib\\site-packages\\joblib\\parallel.py\u001b[0m in \u001b[0;36m__call__\u001b[1;34m(self, iterable)\u001b[0m\n\u001b[0;32m    922\u001b[0m                 \u001b[0mself\u001b[0m\u001b[1;33m.\u001b[0m\u001b[0m_iterating\u001b[0m \u001b[1;33m=\u001b[0m \u001b[0mself\u001b[0m\u001b[1;33m.\u001b[0m\u001b[0m_original_iterator\u001b[0m \u001b[1;32mis\u001b[0m \u001b[1;32mnot\u001b[0m \u001b[1;32mNone\u001b[0m\u001b[1;33m\u001b[0m\u001b[1;33m\u001b[0m\u001b[0m\n\u001b[0;32m    923\u001b[0m \u001b[1;33m\u001b[0m\u001b[0m\n\u001b[1;32m--> 924\u001b[1;33m             \u001b[1;32mwhile\u001b[0m \u001b[0mself\u001b[0m\u001b[1;33m.\u001b[0m\u001b[0mdispatch_one_batch\u001b[0m\u001b[1;33m(\u001b[0m\u001b[0miterator\u001b[0m\u001b[1;33m)\u001b[0m\u001b[1;33m:\u001b[0m\u001b[1;33m\u001b[0m\u001b[1;33m\u001b[0m\u001b[0m\n\u001b[0m\u001b[0;32m    925\u001b[0m                 \u001b[1;32mpass\u001b[0m\u001b[1;33m\u001b[0m\u001b[1;33m\u001b[0m\u001b[0m\n\u001b[0;32m    926\u001b[0m \u001b[1;33m\u001b[0m\u001b[0m\n",
      "\u001b[1;32m~\\Anaconda3\\envs\\py37machlearn\\lib\\site-packages\\joblib\\parallel.py\u001b[0m in \u001b[0;36mdispatch_one_batch\u001b[1;34m(self, iterator)\u001b[0m\n\u001b[0;32m    757\u001b[0m                 \u001b[1;32mreturn\u001b[0m \u001b[1;32mFalse\u001b[0m\u001b[1;33m\u001b[0m\u001b[1;33m\u001b[0m\u001b[0m\n\u001b[0;32m    758\u001b[0m             \u001b[1;32melse\u001b[0m\u001b[1;33m:\u001b[0m\u001b[1;33m\u001b[0m\u001b[1;33m\u001b[0m\u001b[0m\n\u001b[1;32m--> 759\u001b[1;33m                 \u001b[0mself\u001b[0m\u001b[1;33m.\u001b[0m\u001b[0m_dispatch\u001b[0m\u001b[1;33m(\u001b[0m\u001b[0mtasks\u001b[0m\u001b[1;33m)\u001b[0m\u001b[1;33m\u001b[0m\u001b[1;33m\u001b[0m\u001b[0m\n\u001b[0m\u001b[0;32m    760\u001b[0m                 \u001b[1;32mreturn\u001b[0m \u001b[1;32mTrue\u001b[0m\u001b[1;33m\u001b[0m\u001b[1;33m\u001b[0m\u001b[0m\n\u001b[0;32m    761\u001b[0m \u001b[1;33m\u001b[0m\u001b[0m\n",
      "\u001b[1;32m~\\Anaconda3\\envs\\py37machlearn\\lib\\site-packages\\joblib\\parallel.py\u001b[0m in \u001b[0;36m_dispatch\u001b[1;34m(self, batch)\u001b[0m\n\u001b[0;32m    714\u001b[0m         \u001b[1;32mwith\u001b[0m \u001b[0mself\u001b[0m\u001b[1;33m.\u001b[0m\u001b[0m_lock\u001b[0m\u001b[1;33m:\u001b[0m\u001b[1;33m\u001b[0m\u001b[1;33m\u001b[0m\u001b[0m\n\u001b[0;32m    715\u001b[0m             \u001b[0mjob_idx\u001b[0m \u001b[1;33m=\u001b[0m \u001b[0mlen\u001b[0m\u001b[1;33m(\u001b[0m\u001b[0mself\u001b[0m\u001b[1;33m.\u001b[0m\u001b[0m_jobs\u001b[0m\u001b[1;33m)\u001b[0m\u001b[1;33m\u001b[0m\u001b[1;33m\u001b[0m\u001b[0m\n\u001b[1;32m--> 716\u001b[1;33m             \u001b[0mjob\u001b[0m \u001b[1;33m=\u001b[0m \u001b[0mself\u001b[0m\u001b[1;33m.\u001b[0m\u001b[0m_backend\u001b[0m\u001b[1;33m.\u001b[0m\u001b[0mapply_async\u001b[0m\u001b[1;33m(\u001b[0m\u001b[0mbatch\u001b[0m\u001b[1;33m,\u001b[0m \u001b[0mcallback\u001b[0m\u001b[1;33m=\u001b[0m\u001b[0mcb\u001b[0m\u001b[1;33m)\u001b[0m\u001b[1;33m\u001b[0m\u001b[1;33m\u001b[0m\u001b[0m\n\u001b[0m\u001b[0;32m    717\u001b[0m             \u001b[1;31m# A job can complete so quickly than its callback is\u001b[0m\u001b[1;33m\u001b[0m\u001b[1;33m\u001b[0m\u001b[1;33m\u001b[0m\u001b[0m\n\u001b[0;32m    718\u001b[0m             \u001b[1;31m# called before we get here, causing self._jobs to\u001b[0m\u001b[1;33m\u001b[0m\u001b[1;33m\u001b[0m\u001b[1;33m\u001b[0m\u001b[0m\n",
      "\u001b[1;32m~\\Anaconda3\\envs\\py37machlearn\\lib\\site-packages\\joblib\\_parallel_backends.py\u001b[0m in \u001b[0;36mapply_async\u001b[1;34m(self, func, callback)\u001b[0m\n\u001b[0;32m    180\u001b[0m     \u001b[1;32mdef\u001b[0m \u001b[0mapply_async\u001b[0m\u001b[1;33m(\u001b[0m\u001b[0mself\u001b[0m\u001b[1;33m,\u001b[0m \u001b[0mfunc\u001b[0m\u001b[1;33m,\u001b[0m \u001b[0mcallback\u001b[0m\u001b[1;33m=\u001b[0m\u001b[1;32mNone\u001b[0m\u001b[1;33m)\u001b[0m\u001b[1;33m:\u001b[0m\u001b[1;33m\u001b[0m\u001b[1;33m\u001b[0m\u001b[0m\n\u001b[0;32m    181\u001b[0m         \u001b[1;34m\"\"\"Schedule a func to be run\"\"\"\u001b[0m\u001b[1;33m\u001b[0m\u001b[1;33m\u001b[0m\u001b[0m\n\u001b[1;32m--> 182\u001b[1;33m         \u001b[0mresult\u001b[0m \u001b[1;33m=\u001b[0m \u001b[0mImmediateResult\u001b[0m\u001b[1;33m(\u001b[0m\u001b[0mfunc\u001b[0m\u001b[1;33m)\u001b[0m\u001b[1;33m\u001b[0m\u001b[1;33m\u001b[0m\u001b[0m\n\u001b[0m\u001b[0;32m    183\u001b[0m         \u001b[1;32mif\u001b[0m \u001b[0mcallback\u001b[0m\u001b[1;33m:\u001b[0m\u001b[1;33m\u001b[0m\u001b[1;33m\u001b[0m\u001b[0m\n\u001b[0;32m    184\u001b[0m             \u001b[0mcallback\u001b[0m\u001b[1;33m(\u001b[0m\u001b[0mresult\u001b[0m\u001b[1;33m)\u001b[0m\u001b[1;33m\u001b[0m\u001b[1;33m\u001b[0m\u001b[0m\n",
      "\u001b[1;32m~\\Anaconda3\\envs\\py37machlearn\\lib\\site-packages\\joblib\\_parallel_backends.py\u001b[0m in \u001b[0;36m__init__\u001b[1;34m(self, batch)\u001b[0m\n\u001b[0;32m    547\u001b[0m         \u001b[1;31m# Don't delay the application, to avoid keeping the input\u001b[0m\u001b[1;33m\u001b[0m\u001b[1;33m\u001b[0m\u001b[1;33m\u001b[0m\u001b[0m\n\u001b[0;32m    548\u001b[0m         \u001b[1;31m# arguments in memory\u001b[0m\u001b[1;33m\u001b[0m\u001b[1;33m\u001b[0m\u001b[1;33m\u001b[0m\u001b[0m\n\u001b[1;32m--> 549\u001b[1;33m         \u001b[0mself\u001b[0m\u001b[1;33m.\u001b[0m\u001b[0mresults\u001b[0m \u001b[1;33m=\u001b[0m \u001b[0mbatch\u001b[0m\u001b[1;33m(\u001b[0m\u001b[1;33m)\u001b[0m\u001b[1;33m\u001b[0m\u001b[1;33m\u001b[0m\u001b[0m\n\u001b[0m\u001b[0;32m    550\u001b[0m \u001b[1;33m\u001b[0m\u001b[0m\n\u001b[0;32m    551\u001b[0m     \u001b[1;32mdef\u001b[0m \u001b[0mget\u001b[0m\u001b[1;33m(\u001b[0m\u001b[0mself\u001b[0m\u001b[1;33m)\u001b[0m\u001b[1;33m:\u001b[0m\u001b[1;33m\u001b[0m\u001b[1;33m\u001b[0m\u001b[0m\n",
      "\u001b[1;32m~\\Anaconda3\\envs\\py37machlearn\\lib\\site-packages\\joblib\\parallel.py\u001b[0m in \u001b[0;36m__call__\u001b[1;34m(self)\u001b[0m\n\u001b[0;32m    223\u001b[0m         \u001b[1;32mwith\u001b[0m \u001b[0mparallel_backend\u001b[0m\u001b[1;33m(\u001b[0m\u001b[0mself\u001b[0m\u001b[1;33m.\u001b[0m\u001b[0m_backend\u001b[0m\u001b[1;33m,\u001b[0m \u001b[0mn_jobs\u001b[0m\u001b[1;33m=\u001b[0m\u001b[0mself\u001b[0m\u001b[1;33m.\u001b[0m\u001b[0m_n_jobs\u001b[0m\u001b[1;33m)\u001b[0m\u001b[1;33m:\u001b[0m\u001b[1;33m\u001b[0m\u001b[1;33m\u001b[0m\u001b[0m\n\u001b[0;32m    224\u001b[0m             return [func(*args, **kwargs)\n\u001b[1;32m--> 225\u001b[1;33m                     for func, args, kwargs in self.items]\n\u001b[0m\u001b[0;32m    226\u001b[0m \u001b[1;33m\u001b[0m\u001b[0m\n\u001b[0;32m    227\u001b[0m     \u001b[1;32mdef\u001b[0m \u001b[0m__len__\u001b[0m\u001b[1;33m(\u001b[0m\u001b[0mself\u001b[0m\u001b[1;33m)\u001b[0m\u001b[1;33m:\u001b[0m\u001b[1;33m\u001b[0m\u001b[1;33m\u001b[0m\u001b[0m\n",
      "\u001b[1;32m~\\Anaconda3\\envs\\py37machlearn\\lib\\site-packages\\joblib\\parallel.py\u001b[0m in \u001b[0;36m<listcomp>\u001b[1;34m(.0)\u001b[0m\n\u001b[0;32m    223\u001b[0m         \u001b[1;32mwith\u001b[0m \u001b[0mparallel_backend\u001b[0m\u001b[1;33m(\u001b[0m\u001b[0mself\u001b[0m\u001b[1;33m.\u001b[0m\u001b[0m_backend\u001b[0m\u001b[1;33m,\u001b[0m \u001b[0mn_jobs\u001b[0m\u001b[1;33m=\u001b[0m\u001b[0mself\u001b[0m\u001b[1;33m.\u001b[0m\u001b[0m_n_jobs\u001b[0m\u001b[1;33m)\u001b[0m\u001b[1;33m:\u001b[0m\u001b[1;33m\u001b[0m\u001b[1;33m\u001b[0m\u001b[0m\n\u001b[0;32m    224\u001b[0m             return [func(*args, **kwargs)\n\u001b[1;32m--> 225\u001b[1;33m                     for func, args, kwargs in self.items]\n\u001b[0m\u001b[0;32m    226\u001b[0m \u001b[1;33m\u001b[0m\u001b[0m\n\u001b[0;32m    227\u001b[0m     \u001b[1;32mdef\u001b[0m \u001b[0m__len__\u001b[0m\u001b[1;33m(\u001b[0m\u001b[0mself\u001b[0m\u001b[1;33m)\u001b[0m\u001b[1;33m:\u001b[0m\u001b[1;33m\u001b[0m\u001b[1;33m\u001b[0m\u001b[0m\n",
      "\u001b[1;32m~\\Anaconda3\\envs\\py37machlearn\\lib\\site-packages\\sklearn\\model_selection\\_validation.py\u001b[0m in \u001b[0;36m_fit_and_score\u001b[1;34m(estimator, X, y, scorer, train, test, verbose, parameters, fit_params, return_train_score, return_parameters, return_n_test_samples, return_times, return_estimator, error_score)\u001b[0m\n\u001b[0;32m    512\u001b[0m             \u001b[0mestimator\u001b[0m\u001b[1;33m.\u001b[0m\u001b[0mfit\u001b[0m\u001b[1;33m(\u001b[0m\u001b[0mX_train\u001b[0m\u001b[1;33m,\u001b[0m \u001b[1;33m**\u001b[0m\u001b[0mfit_params\u001b[0m\u001b[1;33m)\u001b[0m\u001b[1;33m\u001b[0m\u001b[1;33m\u001b[0m\u001b[0m\n\u001b[0;32m    513\u001b[0m         \u001b[1;32melse\u001b[0m\u001b[1;33m:\u001b[0m\u001b[1;33m\u001b[0m\u001b[1;33m\u001b[0m\u001b[0m\n\u001b[1;32m--> 514\u001b[1;33m             \u001b[0mestimator\u001b[0m\u001b[1;33m.\u001b[0m\u001b[0mfit\u001b[0m\u001b[1;33m(\u001b[0m\u001b[0mX_train\u001b[0m\u001b[1;33m,\u001b[0m \u001b[0my_train\u001b[0m\u001b[1;33m,\u001b[0m \u001b[1;33m**\u001b[0m\u001b[0mfit_params\u001b[0m\u001b[1;33m)\u001b[0m\u001b[1;33m\u001b[0m\u001b[1;33m\u001b[0m\u001b[0m\n\u001b[0m\u001b[0;32m    515\u001b[0m \u001b[1;33m\u001b[0m\u001b[0m\n\u001b[0;32m    516\u001b[0m     \u001b[1;32mexcept\u001b[0m \u001b[0mException\u001b[0m \u001b[1;32mas\u001b[0m \u001b[0me\u001b[0m\u001b[1;33m:\u001b[0m\u001b[1;33m\u001b[0m\u001b[1;33m\u001b[0m\u001b[0m\n",
      "\u001b[1;32m~\\Anaconda3\\envs\\py37machlearn\\lib\\site-packages\\sklearn\\ensemble\\forest.py\u001b[0m in \u001b[0;36mfit\u001b[1;34m(self, X, y, sample_weight)\u001b[0m\n\u001b[0;32m    328\u001b[0m                     \u001b[0mt\u001b[0m\u001b[1;33m,\u001b[0m \u001b[0mself\u001b[0m\u001b[1;33m,\u001b[0m \u001b[0mX\u001b[0m\u001b[1;33m,\u001b[0m \u001b[0my\u001b[0m\u001b[1;33m,\u001b[0m \u001b[0msample_weight\u001b[0m\u001b[1;33m,\u001b[0m \u001b[0mi\u001b[0m\u001b[1;33m,\u001b[0m \u001b[0mlen\u001b[0m\u001b[1;33m(\u001b[0m\u001b[0mtrees\u001b[0m\u001b[1;33m)\u001b[0m\u001b[1;33m,\u001b[0m\u001b[1;33m\u001b[0m\u001b[1;33m\u001b[0m\u001b[0m\n\u001b[0;32m    329\u001b[0m                     verbose=self.verbose, class_weight=self.class_weight)\n\u001b[1;32m--> 330\u001b[1;33m                 for i, t in enumerate(trees))\n\u001b[0m\u001b[0;32m    331\u001b[0m \u001b[1;33m\u001b[0m\u001b[0m\n\u001b[0;32m    332\u001b[0m             \u001b[1;31m# Collect newly grown trees\u001b[0m\u001b[1;33m\u001b[0m\u001b[1;33m\u001b[0m\u001b[1;33m\u001b[0m\u001b[0m\n",
      "\u001b[1;32m~\\Anaconda3\\envs\\py37machlearn\\lib\\site-packages\\joblib\\parallel.py\u001b[0m in \u001b[0;36m__call__\u001b[1;34m(self, iterable)\u001b[0m\n\u001b[0;32m    922\u001b[0m                 \u001b[0mself\u001b[0m\u001b[1;33m.\u001b[0m\u001b[0m_iterating\u001b[0m \u001b[1;33m=\u001b[0m \u001b[0mself\u001b[0m\u001b[1;33m.\u001b[0m\u001b[0m_original_iterator\u001b[0m \u001b[1;32mis\u001b[0m \u001b[1;32mnot\u001b[0m \u001b[1;32mNone\u001b[0m\u001b[1;33m\u001b[0m\u001b[1;33m\u001b[0m\u001b[0m\n\u001b[0;32m    923\u001b[0m \u001b[1;33m\u001b[0m\u001b[0m\n\u001b[1;32m--> 924\u001b[1;33m             \u001b[1;32mwhile\u001b[0m \u001b[0mself\u001b[0m\u001b[1;33m.\u001b[0m\u001b[0mdispatch_one_batch\u001b[0m\u001b[1;33m(\u001b[0m\u001b[0miterator\u001b[0m\u001b[1;33m)\u001b[0m\u001b[1;33m:\u001b[0m\u001b[1;33m\u001b[0m\u001b[1;33m\u001b[0m\u001b[0m\n\u001b[0m\u001b[0;32m    925\u001b[0m                 \u001b[1;32mpass\u001b[0m\u001b[1;33m\u001b[0m\u001b[1;33m\u001b[0m\u001b[0m\n\u001b[0;32m    926\u001b[0m \u001b[1;33m\u001b[0m\u001b[0m\n",
      "\u001b[1;32m~\\Anaconda3\\envs\\py37machlearn\\lib\\site-packages\\joblib\\parallel.py\u001b[0m in \u001b[0;36mdispatch_one_batch\u001b[1;34m(self, iterator)\u001b[0m\n\u001b[0;32m    757\u001b[0m                 \u001b[1;32mreturn\u001b[0m \u001b[1;32mFalse\u001b[0m\u001b[1;33m\u001b[0m\u001b[1;33m\u001b[0m\u001b[0m\n\u001b[0;32m    758\u001b[0m             \u001b[1;32melse\u001b[0m\u001b[1;33m:\u001b[0m\u001b[1;33m\u001b[0m\u001b[1;33m\u001b[0m\u001b[0m\n\u001b[1;32m--> 759\u001b[1;33m                 \u001b[0mself\u001b[0m\u001b[1;33m.\u001b[0m\u001b[0m_dispatch\u001b[0m\u001b[1;33m(\u001b[0m\u001b[0mtasks\u001b[0m\u001b[1;33m)\u001b[0m\u001b[1;33m\u001b[0m\u001b[1;33m\u001b[0m\u001b[0m\n\u001b[0m\u001b[0;32m    760\u001b[0m                 \u001b[1;32mreturn\u001b[0m \u001b[1;32mTrue\u001b[0m\u001b[1;33m\u001b[0m\u001b[1;33m\u001b[0m\u001b[0m\n\u001b[0;32m    761\u001b[0m \u001b[1;33m\u001b[0m\u001b[0m\n",
      "\u001b[1;32m~\\Anaconda3\\envs\\py37machlearn\\lib\\site-packages\\joblib\\parallel.py\u001b[0m in \u001b[0;36m_dispatch\u001b[1;34m(self, batch)\u001b[0m\n\u001b[0;32m    714\u001b[0m         \u001b[1;32mwith\u001b[0m \u001b[0mself\u001b[0m\u001b[1;33m.\u001b[0m\u001b[0m_lock\u001b[0m\u001b[1;33m:\u001b[0m\u001b[1;33m\u001b[0m\u001b[1;33m\u001b[0m\u001b[0m\n\u001b[0;32m    715\u001b[0m             \u001b[0mjob_idx\u001b[0m \u001b[1;33m=\u001b[0m \u001b[0mlen\u001b[0m\u001b[1;33m(\u001b[0m\u001b[0mself\u001b[0m\u001b[1;33m.\u001b[0m\u001b[0m_jobs\u001b[0m\u001b[1;33m)\u001b[0m\u001b[1;33m\u001b[0m\u001b[1;33m\u001b[0m\u001b[0m\n\u001b[1;32m--> 716\u001b[1;33m             \u001b[0mjob\u001b[0m \u001b[1;33m=\u001b[0m \u001b[0mself\u001b[0m\u001b[1;33m.\u001b[0m\u001b[0m_backend\u001b[0m\u001b[1;33m.\u001b[0m\u001b[0mapply_async\u001b[0m\u001b[1;33m(\u001b[0m\u001b[0mbatch\u001b[0m\u001b[1;33m,\u001b[0m \u001b[0mcallback\u001b[0m\u001b[1;33m=\u001b[0m\u001b[0mcb\u001b[0m\u001b[1;33m)\u001b[0m\u001b[1;33m\u001b[0m\u001b[1;33m\u001b[0m\u001b[0m\n\u001b[0m\u001b[0;32m    717\u001b[0m             \u001b[1;31m# A job can complete so quickly than its callback is\u001b[0m\u001b[1;33m\u001b[0m\u001b[1;33m\u001b[0m\u001b[1;33m\u001b[0m\u001b[0m\n\u001b[0;32m    718\u001b[0m             \u001b[1;31m# called before we get here, causing self._jobs to\u001b[0m\u001b[1;33m\u001b[0m\u001b[1;33m\u001b[0m\u001b[1;33m\u001b[0m\u001b[0m\n",
      "\u001b[1;32m~\\Anaconda3\\envs\\py37machlearn\\lib\\site-packages\\joblib\\_parallel_backends.py\u001b[0m in \u001b[0;36mapply_async\u001b[1;34m(self, func, callback)\u001b[0m\n\u001b[0;32m    180\u001b[0m     \u001b[1;32mdef\u001b[0m \u001b[0mapply_async\u001b[0m\u001b[1;33m(\u001b[0m\u001b[0mself\u001b[0m\u001b[1;33m,\u001b[0m \u001b[0mfunc\u001b[0m\u001b[1;33m,\u001b[0m \u001b[0mcallback\u001b[0m\u001b[1;33m=\u001b[0m\u001b[1;32mNone\u001b[0m\u001b[1;33m)\u001b[0m\u001b[1;33m:\u001b[0m\u001b[1;33m\u001b[0m\u001b[1;33m\u001b[0m\u001b[0m\n\u001b[0;32m    181\u001b[0m         \u001b[1;34m\"\"\"Schedule a func to be run\"\"\"\u001b[0m\u001b[1;33m\u001b[0m\u001b[1;33m\u001b[0m\u001b[0m\n\u001b[1;32m--> 182\u001b[1;33m         \u001b[0mresult\u001b[0m \u001b[1;33m=\u001b[0m \u001b[0mImmediateResult\u001b[0m\u001b[1;33m(\u001b[0m\u001b[0mfunc\u001b[0m\u001b[1;33m)\u001b[0m\u001b[1;33m\u001b[0m\u001b[1;33m\u001b[0m\u001b[0m\n\u001b[0m\u001b[0;32m    183\u001b[0m         \u001b[1;32mif\u001b[0m \u001b[0mcallback\u001b[0m\u001b[1;33m:\u001b[0m\u001b[1;33m\u001b[0m\u001b[1;33m\u001b[0m\u001b[0m\n\u001b[0;32m    184\u001b[0m             \u001b[0mcallback\u001b[0m\u001b[1;33m(\u001b[0m\u001b[0mresult\u001b[0m\u001b[1;33m)\u001b[0m\u001b[1;33m\u001b[0m\u001b[1;33m\u001b[0m\u001b[0m\n",
      "\u001b[1;32m~\\Anaconda3\\envs\\py37machlearn\\lib\\site-packages\\joblib\\_parallel_backends.py\u001b[0m in \u001b[0;36m__init__\u001b[1;34m(self, batch)\u001b[0m\n\u001b[0;32m    547\u001b[0m         \u001b[1;31m# Don't delay the application, to avoid keeping the input\u001b[0m\u001b[1;33m\u001b[0m\u001b[1;33m\u001b[0m\u001b[1;33m\u001b[0m\u001b[0m\n\u001b[0;32m    548\u001b[0m         \u001b[1;31m# arguments in memory\u001b[0m\u001b[1;33m\u001b[0m\u001b[1;33m\u001b[0m\u001b[1;33m\u001b[0m\u001b[0m\n\u001b[1;32m--> 549\u001b[1;33m         \u001b[0mself\u001b[0m\u001b[1;33m.\u001b[0m\u001b[0mresults\u001b[0m \u001b[1;33m=\u001b[0m \u001b[0mbatch\u001b[0m\u001b[1;33m(\u001b[0m\u001b[1;33m)\u001b[0m\u001b[1;33m\u001b[0m\u001b[1;33m\u001b[0m\u001b[0m\n\u001b[0m\u001b[0;32m    550\u001b[0m \u001b[1;33m\u001b[0m\u001b[0m\n\u001b[0;32m    551\u001b[0m     \u001b[1;32mdef\u001b[0m \u001b[0mget\u001b[0m\u001b[1;33m(\u001b[0m\u001b[0mself\u001b[0m\u001b[1;33m)\u001b[0m\u001b[1;33m:\u001b[0m\u001b[1;33m\u001b[0m\u001b[1;33m\u001b[0m\u001b[0m\n",
      "\u001b[1;32m~\\Anaconda3\\envs\\py37machlearn\\lib\\site-packages\\joblib\\parallel.py\u001b[0m in \u001b[0;36m__call__\u001b[1;34m(self)\u001b[0m\n\u001b[0;32m    223\u001b[0m         \u001b[1;32mwith\u001b[0m \u001b[0mparallel_backend\u001b[0m\u001b[1;33m(\u001b[0m\u001b[0mself\u001b[0m\u001b[1;33m.\u001b[0m\u001b[0m_backend\u001b[0m\u001b[1;33m,\u001b[0m \u001b[0mn_jobs\u001b[0m\u001b[1;33m=\u001b[0m\u001b[0mself\u001b[0m\u001b[1;33m.\u001b[0m\u001b[0m_n_jobs\u001b[0m\u001b[1;33m)\u001b[0m\u001b[1;33m:\u001b[0m\u001b[1;33m\u001b[0m\u001b[1;33m\u001b[0m\u001b[0m\n\u001b[0;32m    224\u001b[0m             return [func(*args, **kwargs)\n\u001b[1;32m--> 225\u001b[1;33m                     for func, args, kwargs in self.items]\n\u001b[0m\u001b[0;32m    226\u001b[0m \u001b[1;33m\u001b[0m\u001b[0m\n\u001b[0;32m    227\u001b[0m     \u001b[1;32mdef\u001b[0m \u001b[0m__len__\u001b[0m\u001b[1;33m(\u001b[0m\u001b[0mself\u001b[0m\u001b[1;33m)\u001b[0m\u001b[1;33m:\u001b[0m\u001b[1;33m\u001b[0m\u001b[1;33m\u001b[0m\u001b[0m\n",
      "\u001b[1;32m~\\Anaconda3\\envs\\py37machlearn\\lib\\site-packages\\joblib\\parallel.py\u001b[0m in \u001b[0;36m<listcomp>\u001b[1;34m(.0)\u001b[0m\n\u001b[0;32m    223\u001b[0m         \u001b[1;32mwith\u001b[0m \u001b[0mparallel_backend\u001b[0m\u001b[1;33m(\u001b[0m\u001b[0mself\u001b[0m\u001b[1;33m.\u001b[0m\u001b[0m_backend\u001b[0m\u001b[1;33m,\u001b[0m \u001b[0mn_jobs\u001b[0m\u001b[1;33m=\u001b[0m\u001b[0mself\u001b[0m\u001b[1;33m.\u001b[0m\u001b[0m_n_jobs\u001b[0m\u001b[1;33m)\u001b[0m\u001b[1;33m:\u001b[0m\u001b[1;33m\u001b[0m\u001b[1;33m\u001b[0m\u001b[0m\n\u001b[0;32m    224\u001b[0m             return [func(*args, **kwargs)\n\u001b[1;32m--> 225\u001b[1;33m                     for func, args, kwargs in self.items]\n\u001b[0m\u001b[0;32m    226\u001b[0m \u001b[1;33m\u001b[0m\u001b[0m\n\u001b[0;32m    227\u001b[0m     \u001b[1;32mdef\u001b[0m \u001b[0m__len__\u001b[0m\u001b[1;33m(\u001b[0m\u001b[0mself\u001b[0m\u001b[1;33m)\u001b[0m\u001b[1;33m:\u001b[0m\u001b[1;33m\u001b[0m\u001b[1;33m\u001b[0m\u001b[0m\n",
      "\u001b[1;32m~\\Anaconda3\\envs\\py37machlearn\\lib\\site-packages\\sklearn\\ensemble\\forest.py\u001b[0m in \u001b[0;36m_parallel_build_trees\u001b[1;34m(tree, forest, X, y, sample_weight, tree_idx, n_trees, verbose, class_weight)\u001b[0m\n\u001b[0;32m    116\u001b[0m             \u001b[0mcurr_sample_weight\u001b[0m \u001b[1;33m*=\u001b[0m \u001b[0mcompute_sample_weight\u001b[0m\u001b[1;33m(\u001b[0m\u001b[1;34m'balanced'\u001b[0m\u001b[1;33m,\u001b[0m \u001b[0my\u001b[0m\u001b[1;33m,\u001b[0m \u001b[0mindices\u001b[0m\u001b[1;33m)\u001b[0m\u001b[1;33m\u001b[0m\u001b[1;33m\u001b[0m\u001b[0m\n\u001b[0;32m    117\u001b[0m \u001b[1;33m\u001b[0m\u001b[0m\n\u001b[1;32m--> 118\u001b[1;33m         \u001b[0mtree\u001b[0m\u001b[1;33m.\u001b[0m\u001b[0mfit\u001b[0m\u001b[1;33m(\u001b[0m\u001b[0mX\u001b[0m\u001b[1;33m,\u001b[0m \u001b[0my\u001b[0m\u001b[1;33m,\u001b[0m \u001b[0msample_weight\u001b[0m\u001b[1;33m=\u001b[0m\u001b[0mcurr_sample_weight\u001b[0m\u001b[1;33m,\u001b[0m \u001b[0mcheck_input\u001b[0m\u001b[1;33m=\u001b[0m\u001b[1;32mFalse\u001b[0m\u001b[1;33m)\u001b[0m\u001b[1;33m\u001b[0m\u001b[1;33m\u001b[0m\u001b[0m\n\u001b[0m\u001b[0;32m    119\u001b[0m     \u001b[1;32melse\u001b[0m\u001b[1;33m:\u001b[0m\u001b[1;33m\u001b[0m\u001b[1;33m\u001b[0m\u001b[0m\n\u001b[0;32m    120\u001b[0m         \u001b[0mtree\u001b[0m\u001b[1;33m.\u001b[0m\u001b[0mfit\u001b[0m\u001b[1;33m(\u001b[0m\u001b[0mX\u001b[0m\u001b[1;33m,\u001b[0m \u001b[0my\u001b[0m\u001b[1;33m,\u001b[0m \u001b[0msample_weight\u001b[0m\u001b[1;33m=\u001b[0m\u001b[0msample_weight\u001b[0m\u001b[1;33m,\u001b[0m \u001b[0mcheck_input\u001b[0m\u001b[1;33m=\u001b[0m\u001b[1;32mFalse\u001b[0m\u001b[1;33m)\u001b[0m\u001b[1;33m\u001b[0m\u001b[1;33m\u001b[0m\u001b[0m\n",
      "\u001b[1;32m~\\Anaconda3\\envs\\py37machlearn\\lib\\site-packages\\sklearn\\tree\\tree.py\u001b[0m in \u001b[0;36mfit\u001b[1;34m(self, X, y, sample_weight, check_input, X_idx_sorted)\u001b[0m\n\u001b[0;32m    814\u001b[0m             \u001b[0msample_weight\u001b[0m\u001b[1;33m=\u001b[0m\u001b[0msample_weight\u001b[0m\u001b[1;33m,\u001b[0m\u001b[1;33m\u001b[0m\u001b[1;33m\u001b[0m\u001b[0m\n\u001b[0;32m    815\u001b[0m             \u001b[0mcheck_input\u001b[0m\u001b[1;33m=\u001b[0m\u001b[0mcheck_input\u001b[0m\u001b[1;33m,\u001b[0m\u001b[1;33m\u001b[0m\u001b[1;33m\u001b[0m\u001b[0m\n\u001b[1;32m--> 816\u001b[1;33m             X_idx_sorted=X_idx_sorted)\n\u001b[0m\u001b[0;32m    817\u001b[0m         \u001b[1;32mreturn\u001b[0m \u001b[0mself\u001b[0m\u001b[1;33m\u001b[0m\u001b[1;33m\u001b[0m\u001b[0m\n\u001b[0;32m    818\u001b[0m \u001b[1;33m\u001b[0m\u001b[0m\n",
      "\u001b[1;32m~\\Anaconda3\\envs\\py37machlearn\\lib\\site-packages\\sklearn\\tree\\tree.py\u001b[0m in \u001b[0;36mfit\u001b[1;34m(self, X, y, sample_weight, check_input, X_idx_sorted)\u001b[0m\n\u001b[0;32m    378\u001b[0m                                            min_impurity_split)\n\u001b[0;32m    379\u001b[0m \u001b[1;33m\u001b[0m\u001b[0m\n\u001b[1;32m--> 380\u001b[1;33m         \u001b[0mbuilder\u001b[0m\u001b[1;33m.\u001b[0m\u001b[0mbuild\u001b[0m\u001b[1;33m(\u001b[0m\u001b[0mself\u001b[0m\u001b[1;33m.\u001b[0m\u001b[0mtree_\u001b[0m\u001b[1;33m,\u001b[0m \u001b[0mX\u001b[0m\u001b[1;33m,\u001b[0m \u001b[0my\u001b[0m\u001b[1;33m,\u001b[0m \u001b[0msample_weight\u001b[0m\u001b[1;33m,\u001b[0m \u001b[0mX_idx_sorted\u001b[0m\u001b[1;33m)\u001b[0m\u001b[1;33m\u001b[0m\u001b[1;33m\u001b[0m\u001b[0m\n\u001b[0m\u001b[0;32m    381\u001b[0m \u001b[1;33m\u001b[0m\u001b[0m\n\u001b[0;32m    382\u001b[0m         \u001b[1;32mif\u001b[0m \u001b[0mself\u001b[0m\u001b[1;33m.\u001b[0m\u001b[0mn_outputs_\u001b[0m \u001b[1;33m==\u001b[0m \u001b[1;36m1\u001b[0m\u001b[1;33m:\u001b[0m\u001b[1;33m\u001b[0m\u001b[1;33m\u001b[0m\u001b[0m\n",
      "\u001b[1;31mKeyboardInterrupt\u001b[0m: "
     ]
    }
   ],
   "source": [
    "np.random.seed(12)\n",
    "\n",
    "modelo = RandomForestClassifier()\n",
    "\n",
    "grid = {'n_estimators': [10,50,100], \n",
    "        'max_features': [1,'sqrt','log2',None], \n",
    "        'criterion': ['gini','entropy'],\n",
    "        'max_depth': [5,10,None],\n",
    "        'min_samples_split': [2,10,20]}\n",
    "\n",
    "clasificadoresRF = model_selection.GridSearchCV(modelo, \n",
    "                                              grid, \n",
    "                                              scoring='accuracy', \n",
    "                                              cv=10)\n",
    "\n",
    "clasificadoresRF.fit(XsinOutliers,YsinOutliers)\n",
    "\n",
    "# Se muestra la mejor configuración y su accuracy asociado\n",
    "print(\"mejor accuracy: \",clasificadoresRF.best_score_)\n",
    "print(\"mejor configuracion: \",clasificadoresRF.best_params_)\n",
    "print('********************************************************************************')\n",
    "\n",
    "# Se muestra el accuracy obtenido para cada posible combinación de parámetros\n",
    "resultadosMostrar = zip(clasificadoresRF.cv_results_['params'],clasificadoresRF.cv_results_['mean_test_score'],clasificadoresRF.cv_results_['mean_train_score'])\n",
    "for params, mean_test_score, mean_train_score in resultadosMostrar:\n",
    "    print(\"%0.3f (Train: %0.3f) for %r\" % (mean_test_score, mean_train_score, params))\n",
    "    print()"
   ]
  },
  {
   "cell_type": "code",
   "execution_count": null,
   "metadata": {},
   "outputs": [],
   "source": [
    "np.random.seed(12)\n",
    "\n",
    "X_train, X_test, y_train, y_test = model_selection.train_test_split(X[:,8], y, train_size=0.7)\n",
    "\n",
    "clf = LinearSVC()\n",
    "clf.fit(X_train.reshape(-1, 1),y_train)\n",
    "\n",
    "predTrain = clf.predict(X_train.reshape(-1, 1))\n",
    "accTrain = round(metrics.accuracy_score(y_train,predTrain)*100,2)\n",
    "print('El rendimiento en entrenamiento con todas las variables es el {}%'.format(accTrain))\n",
    "\n",
    "predTest = clf.predict(X_test.reshape(-1, 1))\n",
    "accTest = round(metrics.accuracy_score(y_test,predTest)*100,2)\n",
    "print('El rendimiento en test con todas las variables es el {}%'.format(accTest))"
   ]
  }
 ],
 "metadata": {
  "kernelspec": {
   "display_name": "Python 3",
   "language": "python",
   "name": "python3"
  },
  "language_info": {
   "codemirror_mode": {
    "name": "ipython",
    "version": 3
   },
   "file_extension": ".py",
   "mimetype": "text/x-python",
   "name": "python",
   "nbconvert_exporter": "python",
   "pygments_lexer": "ipython3",
   "version": "3.7.4"
  }
 },
 "nbformat": 4,
 "nbformat_minor": 2
}
